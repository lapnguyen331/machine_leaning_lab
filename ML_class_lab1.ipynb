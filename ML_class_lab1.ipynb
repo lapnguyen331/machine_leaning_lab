{
  "nbformat": 4,
  "nbformat_minor": 0,
  "metadata": {
    "colab": {
      "provenance": [],
      "authorship_tag": "ABX9TyNslChtmnYyBle+in/lR2TY",
      "include_colab_link": true
    },
    "kernelspec": {
      "name": "python3",
      "display_name": "Python 3"
    },
    "language_info": {
      "name": "python"
    }
  },
  "cells": [
    {
      "cell_type": "markdown",
      "metadata": {
        "id": "view-in-github",
        "colab_type": "text"
      },
      "source": [
        "<a href=\"https://colab.research.google.com/github/lapnguyen331/machine_leaning_lab/blob/main/ML_class_lab1.ipynb\" target=\"_parent\"><img src=\"https://colab.research.google.com/assets/colab-badge.svg\" alt=\"Open In Colab\"/></a>"
      ]
    },
    {
      "cell_type": "markdown",
      "source": [
        "**Task 1.Python Programming**"
      ],
      "metadata": {
        "id": "GWn8hsnKCwE6"
      }
    },
    {
      "cell_type": "code",
      "execution_count": null,
      "metadata": {
        "colab": {
          "base_uri": "https://localhost:8080/"
        },
        "id": "Tov3j3U2qUzh",
        "outputId": "4ead4846-4254-4735-87dc-45457270db39"
      },
      "outputs": [
        {
          "output_type": "stream",
          "name": "stdout",
          "text": [
            "Nhập số nguyên n5\n",
            "Nhập số nguyên thứ 0:-9\n",
            "Nhập số nguyên thứ 1:-8\n",
            "Nhập số nguyên thứ 2:56\n",
            "Nhập số nguyên thứ 3:55\n",
            "Nhập số nguyên thứ 4:88\n",
            "danh sách: [-9, -8, 56, 55, 88]\n",
            "max: 88\n",
            "min: -9\n",
            "sum: 182\n",
            "sort acen: [-9, -8, 55, 56, 88]\n",
            "sort de: [88, 56, 55, -8, -9]\n",
            "negative: 2\n",
            "positive: 3\n"
          ]
        }
      ],
      "source": [
        "# task 1.1\n",
        "L=[]\n",
        "nega =0\n",
        "posi =0\n",
        "\n",
        "n= int(input(\"Nhập số nguyên n\"))\n",
        "for i in  range (n):\n",
        " temp= int(input(\"Nhập số nguyên thứ \" +str(i) +\":\" ))\n",
        " L.append(temp);\n",
        " if temp < 0: nega +=1\n",
        " else: posi +=1\n",
        "print(\"danh sách: \"+str(L))\n",
        "print(\"max: \"+ str(max(L)))\n",
        "print(\"min: \"+ str(min(L)))\n",
        "print(\"sum: \"+ str(sum(L)))\n",
        "print(\"sort acen: \" +str(sorted(L)))\n",
        "print(\"sort de: \" + str(sorted(L,reverse = True)))\n",
        "print(\"negative: \" + str(nega))\n",
        "print(\"positive: \" +str(posi))"
      ]
    },
    {
      "cell_type": "code",
      "source": [
        "# task 1.2\n",
        "\n",
        "n = int(input(\"nhập số nguyên n :\"))\n",
        "def recursion(n):\n",
        "  if n <=1 : return 1;\n",
        "  x=1;\n",
        "  for i in range (1,int(n) +1):\n",
        "       x*= i;\n",
        "  return x+ recursion(n-1);\n",
        "print(\"kết quả :\"+str(recursion(n)))"
      ],
      "metadata": {
        "colab": {
          "base_uri": "https://localhost:8080/"
        },
        "id": "yEMYRb6616W4",
        "outputId": "af7e7a7f-bfa9-450e-e6c3-37b597ebb1a8"
      },
      "execution_count": null,
      "outputs": [
        {
          "output_type": "stream",
          "name": "stdout",
          "text": [
            "nhập số nguyên n :4\n",
            "kết quả :33\n"
          ]
        }
      ]
    },
    {
      "cell_type": "code",
      "source": [
        "# task 1.3\n",
        "import functools as ft\n",
        "\n",
        "class Account():\n",
        "  def __init__(self ,name,email,country,friends,posts):\n",
        "      self._name = name\n",
        "      self._email =email\n",
        "      self._country = country\n",
        "      self._friends = friends\n",
        "      self._posts = posts\n",
        "  def getMaxLikePost(self):\n",
        "    postval = self._posts[0]\n",
        "    for post in self._posts:\n",
        "      if post > postval : postval = post\n",
        "    return postval\n",
        "\n",
        "\n",
        "  def getMaxLikePostByFriend(self):\n",
        "    maxpost = self.getMaxLikePost\n",
        "\n",
        "    # for friend in self._friends:\n",
        "    #   for post in friend._posts:\n",
        "    #     if(post.__likes == maxpost.__likes):\n",
        "    #       res= friend\n",
        "    # return res\n",
        "\n",
        "    return ft.reduce(lambda acc, curr: curr if (acc == None or acc.getMaxLikePost() < curr.getMaxLikePost()) else acc, self._friends, None)\n",
        "\n",
        "  @property #viết lại hàm str\n",
        "  def email(self):\n",
        "    return self._email\n",
        "\n",
        "  def moreThan(self):\n",
        "    return len(self._posts) >= 10\n",
        "\n",
        "  def isCountry(self,country):\n",
        "    return str(self._country) == country\n",
        "\n",
        "  def __str__(self):\n",
        "    nl = '\\n '\n",
        "    return f'''\n",
        "    [Tài khoản]\n",
        "      Tên: {self._name}, email: {self._email}, country: {self._country}\n",
        "      Danh sách bạn bè:\n",
        "      [{', '.join(map(lambda friend: friend._email, self._friends))}]\n",
        "      Danh sách bài viết:\n",
        "      [{nl.join(map(lambda post: str(post), self._posts))}]'''\n",
        "\n",
        "class AccountManager():\n",
        "  def __init__(self, accounts):\n",
        "    self.__accounts = accounts\n",
        "  def groupAccountsByPostLike(self):\n",
        "    return {\n",
        "        True: list(filter(lambda x: x.moreThan, self.__accounts)),\n",
        "        False: list(filter(lambda x: not x.moreThan, self.__accounts))\n",
        "            }\n",
        "  def filterAccounts(self, country):\n",
        "    return list(filter(lambda x: x.isCountry(country), self.__accounts))\n",
        "class Post():\n",
        "  def __init__(self, content, subject, likes):\n",
        "    self.__content = content\n",
        "    self.__subject = subject\n",
        "    self.__likes = likes\n",
        "  def __gt__(self, other):\n",
        "    return self.__likes > other.__likes\n",
        "  def __str__(self):\n",
        "    return f'''Tên bài viết: {self.__subject}, Lượt like: {self.__likes}'''\n",
        "\n",
        "#mở rộng'\n",
        "class VerifiedAccount(Account):\n",
        "  def __init__(self, name, email, country, friends, posts, fromDate):\n",
        "    self.__fromDate = fromDate\n",
        "    super().__init__(name, email, country, friends, posts)\n",
        "def __str__(self):\n",
        "  nl = '\\n '\n",
        "  return f'''\n",
        "  [Tài khoản xác minh]\n",
        "    Tên: {self._name}, email: {self._email}, country: {self._country}, ngày tham gia: {self.__fromDate}\n",
        "    Danh sách bạn bè:\n",
        "    [{', '.join(map(lambda friend: friend._email, self._friends))}]\n",
        "    Danh sách bài viết:\n",
        "    [{nl.join(map(lambda post: str(post), self._posts))}]'''\n",
        "\n",
        "class NomalProduct(Account):\n",
        "  def __init__(self,name, email, country, friends, posts ):\n",
        "    super().__init(name, email, country, friends, posts)\n",
        "\n",
        "#unit test\n",
        "account1 = Account('Lapne1', 'lapne@gmail.com', 'TP.HCM', [],\n",
        "[\n",
        "Post('Bài viết #1', 'Nội dung #1', 20),\n",
        "Post('Bài viết #2', 'Nội dung #2', 2),\n",
        "Post('Bài viết #3', 'Nội dung #3', 10),\n",
        "Post('Bài viết #4', 'Nội dung #4', 5),\n",
        "Post('Bài viết #5', 'Nội dung #5', 60)\n",
        "])\n",
        "account2 = Account('Hùng', 'hhhh5@gmail.com', 'Hà Nội', [account1],\n",
        "[\n",
        "Post('Bài viết #6', 'Nội dung #6', 10),\n",
        "Post('Bài viết #7', 'Nội dung #7', 55),\n",
        "Post('Bài viết #8', 'Nội dung #8', 20),\n",
        "Post('Bài viết #9', 'Nội dung #9', 1),\n",
        "Post('Bài viết #10', 'Nội dung #10', 3)\n",
        "])\n",
        "account3 = Account('Nam', 'nnnn@gmail.com', 'TP.HCM', [account1, account2],\n",
        "[\n",
        "  Post('Bài viết #11', 'Nội dung #11', 5),\n",
        "  Post('Bài viết #12', 'Nội dung #12', 160),\n",
        "  Post('Bài viết #13', 'Nội dung #13', 70),\n",
        "  Post('Bài viết #14', 'Nội dung #14', 5),\n",
        "  Post('Bài viết #15', 'Nội dung #15', 160),\n",
        "  Post('Bài viết #16', 'Nội dung #16', 12),\n",
        "  Post('Bài viết #17', 'Nội dung #17', 7),\n",
        "  Post('Bài viết #18', 'Nội dung #18', 73),\n",
        "  Post('Bài viết #19', 'Nội dung #19', 22),\n",
        "  Post('Bài viết #20', 'Nội dung #20', 245),\n",
        "  Post('Bài viết #21', 'Nội dung #21', 111)\n",
        "])\n",
        "account4 = VerifiedAccount('Kiệt', 'kiet@gmail.com', 'Tây Ninh', [account1, account3], [], '05/23/2087')\n",
        "# account5 = NomalProduct('nomalName','nomalName@gmail.com','nomalProvince',[],[],'6/7/2003')\n",
        "print(account1)\n",
        "print(account2)\n",
        "print(account3)\n",
        "print(account4)\n",
        "# print(account5)\n",
        "manager1 = AccountManager([account1, account2, account3])\n",
        "arr1 = manager1.groupAccountsByPostLike()[True]\n",
        "arr2 = manager1.groupAccountsByPostLike()[False]\n",
        "arr3 = manager1.filterAccounts('TP.HCM')\n",
        "print(f'max post:{account3.getMaxLikePost()}')\n",
        "print(f'Tài khoản bạn bè có post nhiều like nhất của Namlà: {account3.getMaxLikePostByFriend().email}')\n",
        "print(f'Danh sách các tài khoản có nhiều hơn 10 post là: [{\", \".join(map(lambda acc: acc.email, arr1))}]')\n",
        "print(f'Danh sách các tài khoản có ít hơn 10 post là: [{\", \".join(map(lambda acc: acc.email, arr2))}]')\n",
        "print(f'Tập các tài khoản ở TP.HCM là: [{\", \".join(map(lambda acc: acc.email, arr3))}]')\n",
        "\n"
      ],
      "metadata": {
        "id": "dam2IQOb70Sn",
        "colab": {
          "base_uri": "https://localhost:8080/"
        },
        "outputId": "f0f9b54c-e68e-491c-ae2f-45ea8baea661"
      },
      "execution_count": null,
      "outputs": [
        {
          "output_type": "stream",
          "name": "stdout",
          "text": [
            "\n",
            "    [Tài khoản]\n",
            "      Tên: Lapne1, email: lapne@gmail.com, country: TP.HCM\n",
            "      Danh sách bạn bè:\n",
            "      []\n",
            "      Danh sách bài viết:\n",
            "      [Tên bài viết: Nội dung #1, Lượt like: 20\n",
            " Tên bài viết: Nội dung #2, Lượt like: 2\n",
            " Tên bài viết: Nội dung #3, Lượt like: 10\n",
            " Tên bài viết: Nội dung #4, Lượt like: 5\n",
            " Tên bài viết: Nội dung #5, Lượt like: 60]\n",
            "\n",
            "    [Tài khoản]\n",
            "      Tên: Hùng, email: hhhh5@gmail.com, country: Hà Nội\n",
            "      Danh sách bạn bè:\n",
            "      [lapne@gmail.com]\n",
            "      Danh sách bài viết:\n",
            "      [Tên bài viết: Nội dung #6, Lượt like: 10\n",
            " Tên bài viết: Nội dung #7, Lượt like: 55\n",
            " Tên bài viết: Nội dung #8, Lượt like: 20\n",
            " Tên bài viết: Nội dung #9, Lượt like: 1\n",
            " Tên bài viết: Nội dung #10, Lượt like: 3]\n",
            "\n",
            "    [Tài khoản]\n",
            "      Tên: Nam, email: nnnn@gmail.com, country: TP.HCM\n",
            "      Danh sách bạn bè:\n",
            "      [lapne@gmail.com, hhhh5@gmail.com]\n",
            "      Danh sách bài viết:\n",
            "      [Tên bài viết: Nội dung #11, Lượt like: 5\n",
            " Tên bài viết: Nội dung #12, Lượt like: 160\n",
            " Tên bài viết: Nội dung #13, Lượt like: 70\n",
            " Tên bài viết: Nội dung #14, Lượt like: 5\n",
            " Tên bài viết: Nội dung #15, Lượt like: 160\n",
            " Tên bài viết: Nội dung #16, Lượt like: 12\n",
            " Tên bài viết: Nội dung #17, Lượt like: 7\n",
            " Tên bài viết: Nội dung #18, Lượt like: 73\n",
            " Tên bài viết: Nội dung #19, Lượt like: 22\n",
            " Tên bài viết: Nội dung #20, Lượt like: 245\n",
            " Tên bài viết: Nội dung #21, Lượt like: 111]\n",
            "\n",
            "    [Tài khoản]\n",
            "      Tên: Kiệt, email: kiet@gmail.com, country: Tây Ninh\n",
            "      Danh sách bạn bè:\n",
            "      [lapne@gmail.com, nnnn@gmail.com]\n",
            "      Danh sách bài viết:\n",
            "      []\n",
            "max post:Tên bài viết: Nội dung #20, Lượt like: 245\n",
            "Tài khoản bạn bè có post nhiều like nhất của Namlà: lapne@gmail.com\n",
            "Danh sách các tài khoản có nhiều hơn 10 post là: [lapne@gmail.com, hhhh5@gmail.com, nnnn@gmail.com]\n",
            "Danh sách các tài khoản có ít hơn 10 post là: []\n",
            "Tập các tài khoản ở TP.HCM là: [lapne@gmail.com, nnnn@gmail.com]\n"
          ]
        }
      ]
    },
    {
      "cell_type": "markdown",
      "source": [],
      "metadata": {
        "id": "X4yzdRAwCsvC"
      }
    },
    {
      "cell_type": "markdown",
      "source": [
        "**Task 2.NumPy API**"
      ],
      "metadata": {
        "id": "RygZ35ppC_A5"
      }
    },
    {
      "cell_type": "code",
      "source": [
        "#task 2.1\n",
        "import numpy as np\n",
        "print(f'mảng từ 10 đến 25: {np.arange(10,26)}')\n",
        "print(f'rever mảng: {np.arange(10,26)[::-1]}' )\n"
      ],
      "metadata": {
        "colab": {
          "base_uri": "https://localhost:8080/"
        },
        "id": "7zMqQyJdvfH6",
        "outputId": "31922b0b-b99e-49cc-8fa0-cecaf658059f"
      },
      "execution_count": null,
      "outputs": [
        {
          "output_type": "stream",
          "name": "stdout",
          "text": [
            "mảng từ 10 đến 25: [10 11 12 13 14 15 16 17 18 19 20 21 22 23 24 25]\n",
            "rever mảng: [25 24 23 22 21 20 19 18 17 16 15 14 13 12 11 10]\n"
          ]
        }
      ]
    },
    {
      "cell_type": "code",
      "source": [
        "#task 2.2\n",
        "import numpy as np\n",
        "input =[1,2,3,4]\n",
        "print(f'Original array: {np.array(input)}')\n",
        "print(f'Repeating 2 times: {np.array([input, input]).flatten()}')\n",
        "print(f'Repeating 3 times: {np.array([input, input, input]).flatten()}')"
      ],
      "metadata": {
        "colab": {
          "base_uri": "https://localhost:8080/"
        },
        "id": "5gKYwTj8xs9K",
        "outputId": "8040f0d0-0486-46cf-fc34-4a157c742abe"
      },
      "execution_count": null,
      "outputs": [
        {
          "output_type": "stream",
          "name": "stdout",
          "text": [
            "Original array: [1 2 3 4]\n",
            "Repeating 2 times: [1 2 3 4 1 2 3 4]\n",
            "Repeating 3 times: [1 2 3 4 1 2 3 4 1 2 3 4]\n"
          ]
        }
      ]
    },
    {
      "cell_type": "code",
      "source": [
        "#task 2.3\n",
        "input = [\n",
        "[ 0.42, 0.48, 0.32],\n",
        "[ 0.74, 0.58, 0.38],\n",
        "[ 0.51 ,0.34, 0.15 ]\n",
        "  ]\n",
        "  #2d -> 1d\n",
        "array = np.array(input)\n",
        "print(f'Original array:\\n {array}')\n",
        "array[array >= 0.5] = 0.5\n",
        "print(f'replaced array:{array}')"
      ],
      "metadata": {
        "colab": {
          "base_uri": "https://localhost:8080/"
        },
        "id": "tFXfxieAy-Mq",
        "outputId": "24f50bea-a5b4-45c2-f8ef-98e5ca2712f4"
      },
      "execution_count": null,
      "outputs": [
        {
          "output_type": "stream",
          "name": "stdout",
          "text": [
            "Original array:\n",
            " [[0.42 0.48 0.32]\n",
            " [0.74 0.58 0.38]\n",
            " [0.51 0.34 0.15]]\n",
            "replaced array:[[0.42 0.48 0.32]\n",
            " [0.5  0.5  0.38]\n",
            " [0.5  0.34 0.15]]\n"
          ]
        }
      ]
    }
  ]
}