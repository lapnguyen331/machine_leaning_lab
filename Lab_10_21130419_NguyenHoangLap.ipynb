{
  "cells": [
    {
      "cell_type": "markdown",
      "metadata": {
        "id": "view-in-github",
        "colab_type": "text"
      },
      "source": [
        "<a href=\"https://colab.research.google.com/github/lapnguyen331/machine_leaning_lab/blob/main/Lab_10_21130419_NguyenHoangLap.ipynb\" target=\"_parent\"><img src=\"https://colab.research.google.com/assets/colab-badge.svg\" alt=\"Open In Colab\"/></a>"
      ]
    },
    {
      "cell_type": "markdown",
      "metadata": {
        "id": "LMzehe0sy5wr"
      },
      "source": [
        "# This lab deals with **cross validation** for some classification algorithms and **clustering methods** using sklearn api.\n",
        "\n",
        "*   **Deadline: 23:59, 20/5/2024**\n",
        "\n"
      ]
    },
    {
      "cell_type": "markdown",
      "metadata": {
        "id": "H4nJmxp9zGX4"
      },
      "source": [
        "# Import libraries"
      ]
    },
    {
      "cell_type": "code",
      "execution_count": null,
      "metadata": {
        "id": "DoVWQ8AEyc-C"
      },
      "outputs": [],
      "source": [
        "import numpy as np\n",
        "import pandas as pd\n",
        "\n",
        "import matplotlib.pyplot as plt\n",
        "from sklearn import datasets\n",
        "\n",
        "#model\n",
        "from sklearn import svm\n",
        "from sklearn.ensemble import RandomForestClassifier\n",
        "from sklearn.preprocessing import StandardScaler\n",
        "\n",
        "\n",
        "from sklearn.model_selection import train_test_split\n",
        "\n",
        "#đánh giá\n",
        "from sklearn.metrics import accuracy_score\n",
        "from sklearn.metrics import precision_score\n",
        "from sklearn.metrics import recall_score\n",
        "from sklearn.metrics import f1_score\n",
        "#clusting\n",
        "from sklearn.cluster import KMeans\n",
        "from sklearn.model_selection import cross_validate\n",
        "from sklearn.model_selection import KFold\n",
        "from sklearn.model_selection import cross_val_score\n"
      ]
    },
    {
      "cell_type": "markdown",
      "metadata": {
        "id": "x_dG9SA5OhGT"
      },
      "source": [
        "#Task 1. With **iris** dataset\n",
        "*  1.1. Apply **SVM** algorithm with cross validation\n"
      ]
    },
    {
      "cell_type": "code",
      "execution_count": null,
      "metadata": {
        "id": "62jExOZ952fF"
      },
      "outputs": [],
      "source": [
        "#load data\n",
        "iris = datasets.load_iris()\n",
        "x1=iris['data']\n",
        "y1=iris['target']"
      ]
    },
    {
      "cell_type": "code",
      "source": [
        "scoring = {'acc': 'accuracy',\n",
        "'prec_macro': 'precision_macro',\n",
        "'rec_micro': 'recall_macro'}"
      ],
      "metadata": {
        "id": "o_hpK3phbxfR"
      },
      "execution_count": null,
      "outputs": []
    },
    {
      "cell_type": "code",
      "execution_count": null,
      "metadata": {
        "colab": {
          "base_uri": "https://localhost:8080/"
        },
        "id": "9TG0tVeOGemI",
        "outputId": "e421ce26-ad14-43a9-ea94-c6a28881bcd2"
      },
      "outputs": [
        {
          "output_type": "stream",
          "name": "stdout",
          "text": [
            "['fit_time', 'score_time', 'test_score']\n",
            "0.9733333333333334\n"
          ]
        }
      ],
      "source": [
        "model1 = svm.SVC(kernel='linear', C=1, random_state=42)\n",
        "score1 = cross_validate(model1,x1,y1,scoring= 'accuracy',cv=10)\n",
        "print(sorted(score1.keys()))\n",
        "print(np.mean(score1['test_score']))\n"
      ]
    },
    {
      "cell_type": "markdown",
      "metadata": {
        "id": "2g--8cng53sY"
      },
      "source": [
        "*  1.2 Apply **feature selection** to the dataset and then use **RandomForest**, **kNN** algorithm with cross validation"
      ]
    },
    {
      "cell_type": "code",
      "execution_count": null,
      "metadata": {
        "colab": {
          "base_uri": "https://localhost:8080/",
          "height": 74
        },
        "id": "fX0_kItYPism",
        "outputId": "156c52dd-62f2-4465-a5c3-ee43b264c5e3"
      },
      "outputs": [
        {
          "output_type": "execute_result",
          "data": {
            "text/plain": [
              "RandomForestClassifier()"
            ],
            "text/html": [
              "<style>#sk-container-id-1 {color: black;background-color: white;}#sk-container-id-1 pre{padding: 0;}#sk-container-id-1 div.sk-toggleable {background-color: white;}#sk-container-id-1 label.sk-toggleable__label {cursor: pointer;display: block;width: 100%;margin-bottom: 0;padding: 0.3em;box-sizing: border-box;text-align: center;}#sk-container-id-1 label.sk-toggleable__label-arrow:before {content: \"▸\";float: left;margin-right: 0.25em;color: #696969;}#sk-container-id-1 label.sk-toggleable__label-arrow:hover:before {color: black;}#sk-container-id-1 div.sk-estimator:hover label.sk-toggleable__label-arrow:before {color: black;}#sk-container-id-1 div.sk-toggleable__content {max-height: 0;max-width: 0;overflow: hidden;text-align: left;background-color: #f0f8ff;}#sk-container-id-1 div.sk-toggleable__content pre {margin: 0.2em;color: black;border-radius: 0.25em;background-color: #f0f8ff;}#sk-container-id-1 input.sk-toggleable__control:checked~div.sk-toggleable__content {max-height: 200px;max-width: 100%;overflow: auto;}#sk-container-id-1 input.sk-toggleable__control:checked~label.sk-toggleable__label-arrow:before {content: \"▾\";}#sk-container-id-1 div.sk-estimator input.sk-toggleable__control:checked~label.sk-toggleable__label {background-color: #d4ebff;}#sk-container-id-1 div.sk-label input.sk-toggleable__control:checked~label.sk-toggleable__label {background-color: #d4ebff;}#sk-container-id-1 input.sk-hidden--visually {border: 0;clip: rect(1px 1px 1px 1px);clip: rect(1px, 1px, 1px, 1px);height: 1px;margin: -1px;overflow: hidden;padding: 0;position: absolute;width: 1px;}#sk-container-id-1 div.sk-estimator {font-family: monospace;background-color: #f0f8ff;border: 1px dotted black;border-radius: 0.25em;box-sizing: border-box;margin-bottom: 0.5em;}#sk-container-id-1 div.sk-estimator:hover {background-color: #d4ebff;}#sk-container-id-1 div.sk-parallel-item::after {content: \"\";width: 100%;border-bottom: 1px solid gray;flex-grow: 1;}#sk-container-id-1 div.sk-label:hover label.sk-toggleable__label {background-color: #d4ebff;}#sk-container-id-1 div.sk-serial::before {content: \"\";position: absolute;border-left: 1px solid gray;box-sizing: border-box;top: 0;bottom: 0;left: 50%;z-index: 0;}#sk-container-id-1 div.sk-serial {display: flex;flex-direction: column;align-items: center;background-color: white;padding-right: 0.2em;padding-left: 0.2em;position: relative;}#sk-container-id-1 div.sk-item {position: relative;z-index: 1;}#sk-container-id-1 div.sk-parallel {display: flex;align-items: stretch;justify-content: center;background-color: white;position: relative;}#sk-container-id-1 div.sk-item::before, #sk-container-id-1 div.sk-parallel-item::before {content: \"\";position: absolute;border-left: 1px solid gray;box-sizing: border-box;top: 0;bottom: 0;left: 50%;z-index: -1;}#sk-container-id-1 div.sk-parallel-item {display: flex;flex-direction: column;z-index: 1;position: relative;background-color: white;}#sk-container-id-1 div.sk-parallel-item:first-child::after {align-self: flex-end;width: 50%;}#sk-container-id-1 div.sk-parallel-item:last-child::after {align-self: flex-start;width: 50%;}#sk-container-id-1 div.sk-parallel-item:only-child::after {width: 0;}#sk-container-id-1 div.sk-dashed-wrapped {border: 1px dashed gray;margin: 0 0.4em 0.5em 0.4em;box-sizing: border-box;padding-bottom: 0.4em;background-color: white;}#sk-container-id-1 div.sk-label label {font-family: monospace;font-weight: bold;display: inline-block;line-height: 1.2em;}#sk-container-id-1 div.sk-label-container {text-align: center;}#sk-container-id-1 div.sk-container {/* jupyter's `normalize.less` sets `[hidden] { display: none; }` but bootstrap.min.css set `[hidden] { display: none !important; }` so we also need the `!important` here to be able to override the default hidden behavior on the sphinx rendered scikit-learn.org. See: https://github.com/scikit-learn/scikit-learn/issues/21755 */display: inline-block !important;position: relative;}#sk-container-id-1 div.sk-text-repr-fallback {display: none;}</style><div id=\"sk-container-id-1\" class=\"sk-top-container\"><div class=\"sk-text-repr-fallback\"><pre>RandomForestClassifier()</pre><b>In a Jupyter environment, please rerun this cell to show the HTML representation or trust the notebook. <br />On GitHub, the HTML representation is unable to render, please try loading this page with nbviewer.org.</b></div><div class=\"sk-container\" hidden><div class=\"sk-item\"><div class=\"sk-estimator sk-toggleable\"><input class=\"sk-toggleable__control sk-hidden--visually\" id=\"sk-estimator-id-1\" type=\"checkbox\" checked><label for=\"sk-estimator-id-1\" class=\"sk-toggleable__label sk-toggleable__label-arrow\">RandomForestClassifier</label><div class=\"sk-toggleable__content\"><pre>RandomForestClassifier()</pre></div></div></div></div></div>"
            ]
          },
          "metadata": {},
          "execution_count": 5
        }
      ],
      "source": [
        "#feartur selection\n",
        "model1_2=RandomForestClassifier(n_estimators=100)\n",
        "model1_2.fit(x1,y1)\n"
      ]
    },
    {
      "cell_type": "code",
      "execution_count": null,
      "metadata": {
        "colab": {
          "base_uri": "https://localhost:8080/"
        },
        "id": "f_3jOGJrJwop",
        "outputId": "0f4ec969-d8f8-4c38-b5bd-1fee4659cd05"
      },
      "outputs": [
        {
          "output_type": "execute_result",
          "data": {
            "text/plain": [
              "petal length (cm)    0.473544\n",
              "petal width (cm)     0.408050\n",
              "sepal length (cm)    0.089760\n",
              "sepal width (cm)     0.028647\n",
              "dtype: float64"
            ]
          },
          "metadata": {},
          "execution_count": 6
        }
      ],
      "source": [
        "#xem mức độ quan trọng của fearture\n",
        "feature_imp = pd.Series(model1_2.feature_importances_,index=iris.feature_names).sort_values(ascending=False)\n",
        "feature_imp"
      ]
    },
    {
      "cell_type": "code",
      "execution_count": null,
      "metadata": {
        "id": "0R3zXVZ1Km7d"
      },
      "outputs": [],
      "source": [
        "features = feature_imp.index[0:2].values\n",
        "x_new = x1"
      ]
    },
    {
      "cell_type": "markdown",
      "metadata": {
        "id": "gtb8ltIqTohd"
      },
      "source": [
        "*  1.3 Compare the obtained results of these approaches (SVM, RandomForest, kNN) using PrettyTable"
      ]
    },
    {
      "cell_type": "code",
      "source": [
        "new_model1 = RandomForestClassifier(n_estimators=100)\n"
      ],
      "metadata": {
        "id": "aOUKAZe4aeEq"
      },
      "execution_count": null,
      "outputs": []
    },
    {
      "cell_type": "code",
      "source": [
        "svm_score = cross_validate(model1, x1, y1, scoring=scoring,\n",
        "cv=5, return_train_score=True)\n",
        "rf_score = cross_validate(new_model1, x1, y1, scoring=scoring,\n",
        "cv=5, return_train_score=True)"
      ],
      "metadata": {
        "id": "jrG3WDQkcdOg"
      },
      "execution_count": null,
      "outputs": []
    },
    {
      "cell_type": "code",
      "source": [
        "print(svm_score.keys())\n",
        "# print(svm_score)"
      ],
      "metadata": {
        "colab": {
          "base_uri": "https://localhost:8080/"
        },
        "id": "2vTXeFKlc4dY",
        "outputId": "66e44a1e-40cf-4257-e079-e6e3d5246db5"
      },
      "execution_count": null,
      "outputs": [
        {
          "output_type": "stream",
          "name": "stdout",
          "text": [
            "dict_keys(['fit_time', 'score_time', 'test_acc', 'train_acc', 'test_prec_macro', 'train_prec_macro', 'test_rec_micro', 'train_rec_micro'])\n"
          ]
        }
      ]
    },
    {
      "cell_type": "code",
      "execution_count": null,
      "metadata": {
        "id": "N8mWDU2YT26O",
        "colab": {
          "base_uri": "https://localhost:8080/"
        },
        "outputId": "63688e65-25d4-4d40-e236-c38be1668a2c"
      },
      "outputs": [
        {
          "output_type": "stream",
          "name": "stdout",
          "text": [
            "+---------------+---------------------------------------------------------------------------------------------------------------------------------------------------------------------------------------------------------------------------------------------------------------------------------------------------------------------------------------------------------------------------------------------------------------------------------------------------------------------------------------------------------------------------------------------------------------------------------------------------------------------------------------------------------------------------------------------------------+\n",
            "|      Algo     |                                                                                                                                                                                                                                                                                dict_keys(['fit_time', 'score_time', 'test_acc', 'train_acc', 'test_prec_macro', 'train_prec_macro', 'test_rec_micro', 'train_rec_micro'])                                                                                                                                                                                                                                                                               |\n",
            "+---------------+---------------------------------------------------------------------------------------------------------------------------------------------------------------------------------------------------------------------------------------------------------------------------------------------------------------------------------------------------------------------------------------------------------------------------------------------------------------------------------------------------------------------------------------------------------------------------------------------------------------------------------------------------------------------------------------------------------+\n",
            "|      svm      | {'fit_time': array([0.00273681, 0.00300717, 0.0019865 , 0.00216722, 0.01560974]), 'score_time': array([0.01779532, 0.00709295, 0.00504971, 0.00495696, 0.00567174]), 'test_acc': array([0.96666667, 1.        , 0.96666667, 0.96666667, 1.        ]), 'train_acc': array([0.975     , 0.975     , 0.99166667, 0.98333333, 0.98333333]), 'test_prec_macro': array([0.96969697, 1.        , 0.96969697, 0.96969697, 1.        ]), 'train_prec_macro': array([0.97674419, 0.97674419, 0.99186992, 0.98412698, 0.98333333]), 'test_rec_micro': array([0.96666667, 1.        , 0.96666667, 0.96666667, 1.        ]), 'train_rec_micro': array([0.975     , 0.975     , 0.99166667, 0.98333333, 0.98333333])} |\n",
            "| random forest |                                                             {'fit_time': array([0.30350494, 0.35270238, 0.38257217, 0.39509916, 0.68282604]), 'score_time': array([0.02178955, 0.03857851, 0.01930618, 0.01939511, 0.05119157]), 'test_acc': array([0.96666667, 0.96666667, 0.93333333, 0.96666667, 1.        ]), 'train_acc': array([1., 1., 1., 1., 1.]), 'test_prec_macro': array([0.96969697, 0.96969697, 0.94444444, 0.96969697, 1.        ]), 'train_prec_macro': array([1., 1., 1., 1., 1.]), 'test_rec_micro': array([0.96666667, 0.96666667, 0.93333333, 0.96666667, 1.        ]), 'train_rec_micro': array([1., 1., 1., 1., 1.])}                                                             |\n",
            "+---------------+---------------------------------------------------------------------------------------------------------------------------------------------------------------------------------------------------------------------------------------------------------------------------------------------------------------------------------------------------------------------------------------------------------------------------------------------------------------------------------------------------------------------------------------------------------------------------------------------------------------------------------------------------------------------------------------------------------+\n"
          ]
        }
      ],
      "source": [
        "#code\n",
        "from prettytable import PrettyTable\n",
        "\n",
        "table1  = PrettyTable(['Algo',svm_score.keys()])\n",
        "table1.add_row(['svm',svm_score])\n",
        "table1.add_row(['random forest',rf_score])\n",
        "print(table1)\n"
      ]
    },
    {
      "cell_type": "markdown",
      "metadata": {
        "id": "kNv07ARGzOUm"
      },
      "source": [
        "#Task 2. With fashion dataset:\n",
        "*   2.1. Apply **K-Means** algorithm using k=10,"
      ]
    },
    {
      "cell_type": "code",
      "source": [
        "#load data\n",
        "from google.colab import drive\n",
        "drive.mount('/content/gdrive')\n",
        "%cd '/content/gdrive/MyDrive/machine_learning/lab10'"
      ],
      "metadata": {
        "colab": {
          "base_uri": "https://localhost:8080/"
        },
        "id": "2mcMVHx-h0zm",
        "outputId": "5c98ca16-9082-4821-b6fb-a37284242d62"
      },
      "execution_count": null,
      "outputs": [
        {
          "output_type": "stream",
          "name": "stdout",
          "text": [
            "Mounted at /content/gdrive\n",
            "/content/gdrive/MyDrive/machine_learning/lab10\n"
          ]
        }
      ]
    },
    {
      "cell_type": "code",
      "source": [
        "data2= pd.read_csv('fashion_train.csv')\n",
        "X_train2 = data2.iloc[:,:784]\n",
        "y_train2 = data2.iloc[:,-1]"
      ],
      "metadata": {
        "id": "BDf2dM8MiQSy"
      },
      "execution_count": null,
      "outputs": []
    },
    {
      "cell_type": "code",
      "execution_count": null,
      "metadata": {
        "id": "sOsg77IBzEyo",
        "colab": {
          "base_uri": "https://localhost:8080/"
        },
        "outputId": "d0bc219e-83f3-4f7b-ea9b-18e2d905ee59"
      },
      "outputs": [
        {
          "output_type": "stream",
          "name": "stderr",
          "text": [
            "/usr/local/lib/python3.10/dist-packages/sklearn/cluster/_kmeans.py:870: FutureWarning: The default value of `n_init` will change from 10 to 'auto' in 1.4. Set the value of `n_init` explicitly to suppress the warning\n",
            "  warnings.warn(\n"
          ]
        },
        {
          "output_type": "execute_result",
          "data": {
            "text/plain": [
              "(10, 785)"
            ]
          },
          "metadata": {},
          "execution_count": 18
        }
      ],
      "source": [
        "# code\n",
        "kmeans = KMeans(n_clusters = 10, random_state = 0)\n",
        "kmeans.fit(data2)\n",
        "clusters = kmeans.predict(data2)\n",
        "kmeans.cluster_centers_.shape"
      ]
    },
    {
      "cell_type": "markdown",
      "metadata": {
        "id": "pnoVB8J4vV36"
      },
      "source": [
        "*   2.2. Compare the obtained result with with other classification algorithms such as **Randomforest**, **kNN**, and **SVM** in terms of accuracy, precision, recall, f1 using cross validation.\n"
      ]
    },
    {
      "cell_type": "code",
      "source": [
        "def getMetrics(model,x_train,y_train):\n",
        "  score2 = cross_validate(model,x_train,y_train,scoring= 'accuracy',cv=10)\n",
        "  return (np.mean(score1['test_score']))"
      ],
      "metadata": {
        "id": "7pSDP9o_c12r"
      },
      "execution_count": null,
      "outputs": []
    },
    {
      "cell_type": "code",
      "execution_count": null,
      "metadata": {
        "id": "-ZTSvsJdvYqI"
      },
      "outputs": [],
      "source": [
        "#\n",
        "rf_model2=RandomForestClassifier(n_estimators=100)\n",
        "svm_model2 = svm.SVC(kernel='linear', C=1, random_state=42)\n"
      ]
    },
    {
      "cell_type": "code",
      "source": [
        "# rf_model2.fit(X_train2,y_train2)\n",
        "# svm_model2.fit(X_train2,y_train2)\n",
        "rf_acu = getMetrics(rf_model2,X_train2,y_train2)\n",
        "svm_acu = getMetrics(svm_model2,X_train2,y_train2)"
      ],
      "metadata": {
        "id": "XZTvRGO_j0ad"
      },
      "execution_count": null,
      "outputs": []
    },
    {
      "cell_type": "code",
      "source": [
        "table2  = PrettyTable(['Algo',svm_score.keys()])\n",
        "table2.add_row(['svm',svm_acu])\n",
        "table2.add_row(['random forest',rf_acu])\n",
        "table2.add_row(['kmean',rf_acu])\n",
        "\n",
        "print(table2)"
      ],
      "metadata": {
        "colab": {
          "base_uri": "https://localhost:8080/"
        },
        "id": "NDSngBeYfaFy",
        "outputId": "641aa844-f930-47d8-b26a-7c4e602456c4"
      },
      "execution_count": null,
      "outputs": [
        {
          "output_type": "stream",
          "name": "stdout",
          "text": [
            "+---------------+--------------------------------------------------------------------------------------------------------------------------------------------+\n",
            "|      Algo     | dict_keys(['fit_time', 'score_time', 'test_acc', 'train_acc', 'test_prec_macro', 'train_prec_macro', 'test_rec_micro', 'train_rec_micro']) |\n",
            "+---------------+--------------------------------------------------------------------------------------------------------------------------------------------+\n",
            "|      svm      |                                                             0.9733333333333334                                                             |\n",
            "| random forest |                                                             0.9733333333333334                                                             |\n",
            "|     kmean     |                                                             0.9733333333333334                                                             |\n",
            "+---------------+--------------------------------------------------------------------------------------------------------------------------------------------+\n"
          ]
        }
      ]
    },
    {
      "cell_type": "markdown",
      "metadata": {
        "id": "uyey-ndXvZlb"
      },
      "source": [
        "*   2.3. From the obtained results, **which approach is better** for this problem: Supervised learning or Unsupervised learning?"
      ]
    },
    {
      "cell_type": "code",
      "execution_count": null,
      "metadata": {
        "id": "Qzh_D-rgvbv9"
      },
      "outputs": [],
      "source": [
        "#code"
      ]
    },
    {
      "cell_type": "markdown",
      "metadata": {
        "id": "ol1U_T_NvcqV"
      },
      "source": [
        "2.4. Apply **AgglomerativeClustering** algorithm to fashion dataset using the number of clusters is 10"
      ]
    },
    {
      "cell_type": "code",
      "execution_count": null,
      "metadata": {
        "id": "8h4qqiIBSytO",
        "colab": {
          "base_uri": "https://localhost:8080/"
        },
        "outputId": "5a5b158a-4e79-45c2-e54e-bfefe39b3a1c"
      },
      "outputs": [
        {
          "output_type": "stream",
          "name": "stderr",
          "text": [
            "/usr/local/lib/python3.10/dist-packages/sklearn/cluster/_agglomerative.py:983: FutureWarning: Attribute `affinity` was deprecated in version 1.2 and will be removed in 1.4. Use `metric` instead\n",
            "  warnings.warn(\n"
          ]
        },
        {
          "output_type": "execute_result",
          "data": {
            "text/plain": [
              "array([0, 7, 2, 0, 6, 3, 2, 2, 7, 1, 2, 3, 4, 1, 8, 0, 1, 0, 0, 7, 2, 6,\n",
              "       0, 0, 6, 5, 4, 7, 4, 6, 6, 1, 0, 2, 0, 0, 9, 0, 1, 5, 2, 3, 2, 6,\n",
              "       1, 0, 9, 5, 1, 4, 0, 7, 7, 5, 3, 4, 1, 9, 0, 0, 1, 3, 3, 4, 6, 2,\n",
              "       4, 1, 3, 6, 7, 1, 4, 3, 7, 6, 3, 4, 4, 2, 1, 3, 4, 0, 0, 9, 6, 0,\n",
              "       7, 2, 8, 4, 7, 1, 2, 2, 1, 1, 4, 6, 6, 0, 3, 1, 8, 0, 2, 4, 0, 2,\n",
              "       3, 4, 2, 1, 8, 1, 1, 8, 2, 2, 0, 1, 3, 6, 6, 5, 8, 1, 9, 0, 7, 4,\n",
              "       0, 1, 2, 4, 6, 2, 6, 6, 2, 0, 6, 4, 6, 8, 4, 4, 0, 1, 1, 1, 1, 1,\n",
              "       2, 3, 5, 0, 5, 9, 3, 3, 6, 8, 6, 8, 2, 6, 4, 7, 1, 0, 3, 7, 2, 6,\n",
              "       4, 4, 3, 7, 1, 0, 0, 2, 6, 4, 0, 2, 8, 3, 1, 4, 8, 3, 5, 0, 6, 1,\n",
              "       2, 0, 6, 4, 6, 6, 3, 8, 2, 4, 8, 2, 3, 0, 1, 6, 3, 6, 8, 0, 4, 6,\n",
              "       0, 5, 5, 6, 6, 6, 2, 1, 4, 8, 1, 0, 0, 6, 5, 6, 8, 5, 6, 7, 3, 5,\n",
              "       1, 2, 4, 4, 3, 6, 1, 0, 0, 6, 3, 6, 4, 3, 4, 2, 3, 4, 0, 0, 4, 1,\n",
              "       4, 4, 8, 6, 3, 4, 1, 2, 6, 5, 2, 1, 8, 3, 5, 2, 0, 1, 2, 0, 1, 6,\n",
              "       4, 2, 6, 4, 1, 1, 3, 0, 4, 8, 0, 1, 1, 8, 0, 2, 8, 1, 4, 0, 2, 6,\n",
              "       9, 2, 1, 1, 0, 4, 2, 5, 3, 4, 1, 4, 1, 3, 5, 4, 6, 0, 0, 3, 6, 3,\n",
              "       4, 2, 6, 0, 0, 6, 0, 1, 4, 1, 1, 5, 8, 2, 0, 0, 2, 8, 2, 6, 0, 0,\n",
              "       7, 4, 4, 6, 3, 4, 0, 0, 7, 8, 6, 6, 0, 1, 8, 0, 5, 6, 5, 0, 1, 8,\n",
              "       2, 0, 8, 4, 8, 3, 2, 3, 3, 1, 3, 0, 6, 3, 3, 0, 1, 1, 3, 8, 0, 6,\n",
              "       1, 7, 1, 3, 0, 5, 2, 8, 0, 7, 6, 6, 0, 4, 1, 2, 6, 6, 0, 0, 1, 0,\n",
              "       8, 5, 1, 4, 8, 1, 1, 8, 4, 7, 6, 5, 6, 6, 9, 1, 1, 0, 7, 0, 7, 5,\n",
              "       2, 1, 0, 2, 6, 3, 6, 6, 4, 2, 9, 2, 6, 8, 6, 0, 8, 1, 6, 6, 9, 8,\n",
              "       6, 8, 0, 8, 1, 6, 0, 2, 0, 6, 1, 4, 8, 6, 0, 4, 1, 3, 1, 1, 5, 1,\n",
              "       3, 1, 1, 6, 0, 3, 8, 2, 9, 4, 8, 6, 8, 5, 5, 4, 2, 0, 1, 5, 6, 0,\n",
              "       8, 8, 4, 3, 6, 6, 8, 6, 2, 6, 4, 2, 0, 7, 3, 6, 1, 4, 8, 8, 0, 0,\n",
              "       2, 4, 6, 1, 3, 0, 3, 2, 2, 0, 6, 0, 6, 2, 7, 0, 6, 6, 8, 6, 4, 3,\n",
              "       3, 9, 6, 0, 3, 0, 3, 9, 4, 2, 8, 4, 1, 3, 6, 3, 6, 0, 8, 7, 2, 6,\n",
              "       2, 5, 1, 8, 1, 7, 4, 5, 8, 1, 5, 1, 4, 9, 0, 3, 1, 1, 4, 0, 4, 3,\n",
              "       2, 4, 8, 0, 4, 5, 4, 2, 0, 3, 8, 4, 3, 3, 6, 8, 1, 1, 0, 1, 1, 0,\n",
              "       6, 4, 4, 3, 0, 8, 1, 2, 6, 2, 4, 6, 2, 3, 6, 3, 0, 0, 1, 0, 1, 0,\n",
              "       8, 6, 8, 6, 7, 3, 6, 0, 5, 2, 0, 0, 6, 3, 6, 0, 4, 7, 4, 2, 7, 7,\n",
              "       0, 3, 6, 5, 7, 3, 4, 1, 0, 6, 3, 6, 6, 6, 6, 2, 6, 3, 4, 0, 4, 0,\n",
              "       0, 0, 6, 6, 6, 4, 2, 2, 4, 3, 4, 1, 7, 6, 9, 0, 1, 0, 5, 0, 0, 3,\n",
              "       0, 0, 6, 2, 6, 8, 0, 1, 7, 8, 4, 0, 3, 6, 6, 8, 1, 8, 1, 1, 5, 6,\n",
              "       2, 3, 6, 4, 6, 2, 6, 0, 6, 2, 6, 1, 4, 0, 6, 1, 0, 0, 0, 3, 3, 1,\n",
              "       3, 0, 4, 2, 6, 2, 1, 8, 8, 6, 5, 1, 2, 7, 2, 5, 6, 1, 0, 1, 3, 8,\n",
              "       1, 4, 4, 6, 0, 8, 3, 4, 6, 1, 3, 0, 2, 8, 4, 4, 0, 3, 8, 5, 4, 0,\n",
              "       2, 3, 6, 3, 2, 0, 1, 0, 1, 2, 0, 8, 5, 1, 3, 2, 6, 8, 8, 0, 6, 6,\n",
              "       0, 6, 1, 3, 5, 3, 2, 9, 0, 0, 0, 6, 1, 0, 9, 0, 1, 4, 1, 5, 2, 0,\n",
              "       7, 2, 2, 0, 0, 8, 6, 1, 3, 1, 1, 0, 3, 8, 4, 4, 2, 3, 6, 4, 6, 0,\n",
              "       2, 2, 6, 1, 1, 0, 2, 6, 3, 4, 1, 2, 1, 5, 5, 0, 2, 2, 7, 6, 3, 0,\n",
              "       0, 6, 0, 4, 6, 3, 2, 5, 0, 6, 0, 4, 6, 0, 8, 1, 0, 1, 4, 2, 8, 0,\n",
              "       0, 8, 2, 1, 1, 8, 4, 5, 1, 2, 6, 8, 3, 1, 4, 9, 4, 8, 4, 8, 0, 0,\n",
              "       0, 1, 0, 6, 7, 1, 4, 4, 4, 0, 3, 4, 4, 1, 1, 3, 6, 4, 7, 2, 8, 7,\n",
              "       2, 3, 0, 3, 4, 4, 2, 2, 5, 1, 5, 6, 8, 4, 0, 0, 3, 0, 2, 1, 8, 6,\n",
              "       0, 6, 3, 6, 5, 3, 1, 8, 7, 6, 3, 5, 1, 8, 0, 6, 8, 4, 1, 8, 0, 3,\n",
              "       2, 0, 1, 8, 9, 2, 7, 3, 0, 0])"
            ]
          },
          "metadata": {},
          "execution_count": 47
        }
      ],
      "source": [
        "#code\n",
        "cluster2 = AgglomerativeClustering(n_clusters=10, affinity='euclidean', linkage='ward')\n",
        "cluster2.fit_predict(X_train2)\n",
        "cluster2.labels_"
      ]
    },
    {
      "cell_type": "markdown",
      "metadata": {
        "id": "b52OPWPD2afi"
      },
      "source": [
        "#Task 3.\n",
        "For given dataset (shopping-data.csv) including 5 attributes: **CustomerID**, **Genre**, **Age**, **Annual Income**, and **Spending Score**.\n",
        "*   3.1. Using the **scipy library** to create the dendrograms for the given dataset (remember drop categorical attributes: **CustomerID**, **Genre**)\n",
        "\n",
        "\n",
        "\n"
      ]
    },
    {
      "cell_type": "code",
      "execution_count": null,
      "metadata": {
        "id": "YYY2dLtH3P8H"
      },
      "outputs": [],
      "source": [
        "#code\n",
        "data3 = pd.read_csv('shopping-data.csv')\n"
      ]
    },
    {
      "cell_type": "code",
      "source": [
        "from scipy.cluster import hierarchy\n",
        "import matplotlib.pyplot as plt\n",
        "import seaborn as sns\n",
        "data3_1 = data3.drop(['CustomerID', 'Genre'], axis=1)\n"
      ],
      "metadata": {
        "id": "c55aSc6lgXWo"
      },
      "execution_count": null,
      "outputs": []
    },
    {
      "cell_type": "code",
      "source": [
        "# Compute pairwise distance matrix\n",
        "distance_matrix = hierarchy.distance.pdist(data3_1)\n",
        "# Perform hierarchical clustering\n",
        "linkage_matrix = hierarchy.linkage(distance_matrix, method='ward')"
      ],
      "metadata": {
        "id": "mUx6VhzBg1gp"
      },
      "execution_count": null,
      "outputs": []
    },
    {
      "cell_type": "code",
      "source": [
        "# Plot the dendrogram\n",
        "plt.figure(figsize=(10, 6))\n",
        "dendrogram = hierarchy.dendrogram(linkage_matrix, labels=data3.index, leaf_rotation=90)\n",
        "plt.title('Dendrogram')\n",
        "plt.xlabel('Samples')\n",
        "plt.ylabel('Distance')\n",
        "plt.show()"
      ],
      "metadata": {
        "colab": {
          "base_uri": "https://localhost:8080/",
          "height": 362
        },
        "id": "NbHuVKI7g-wg",
        "outputId": "36b0f72d-8851-4ace-de40-c21d588a49cb"
      },
      "execution_count": null,
      "outputs": [
        {
          "output_type": "display_data",
          "data": {
            "text/plain": [
              "<Figure size 1000x600 with 1 Axes>"
            ],
            "image/png": "[encoded data removed]"
          },
          "metadata": {}
        }
      ]
    },
    {
      "cell_type": "markdown",
      "metadata": {
        "id": "eHlh_dWUyEMr"
      },
      "source": [
        "*   3.2. Apply K-Means to the preprocessed dataset with k belongs to [2,10]. Then compute SSE values and plot them to find the best value of k."
      ]
    },
    {
      "cell_type": "code",
      "execution_count": null,
      "metadata": {
        "id": "8vx3mfIidu4P",
        "colab": {
          "base_uri": "https://localhost:8080/"
        },
        "outputId": "984efa18-37ad-4abd-d2fd-84493ce22992"
      },
      "outputs": [
        {
          "output_type": "stream",
          "name": "stderr",
          "text": [
            "/usr/local/lib/python3.10/dist-packages/sklearn/cluster/_kmeans.py:870: FutureWarning: The default value of `n_init` will change from 10 to 'auto' in 1.4. Set the value of `n_init` explicitly to suppress the warning\n",
            "  warnings.warn(\n",
            "/usr/local/lib/python3.10/dist-packages/sklearn/cluster/_kmeans.py:870: FutureWarning: The default value of `n_init` will change from 10 to 'auto' in 1.4. Set the value of `n_init` explicitly to suppress the warning\n",
            "  warnings.warn(\n",
            "/usr/local/lib/python3.10/dist-packages/sklearn/cluster/_kmeans.py:870: FutureWarning: The default value of `n_init` will change from 10 to 'auto' in 1.4. Set the value of `n_init` explicitly to suppress the warning\n",
            "  warnings.warn(\n",
            "/usr/local/lib/python3.10/dist-packages/sklearn/cluster/_kmeans.py:870: FutureWarning: The default value of `n_init` will change from 10 to 'auto' in 1.4. Set the value of `n_init` explicitly to suppress the warning\n",
            "  warnings.warn(\n",
            "/usr/local/lib/python3.10/dist-packages/sklearn/cluster/_kmeans.py:870: FutureWarning: The default value of `n_init` will change from 10 to 'auto' in 1.4. Set the value of `n_init` explicitly to suppress the warning\n",
            "  warnings.warn(\n",
            "/usr/local/lib/python3.10/dist-packages/sklearn/cluster/_kmeans.py:870: FutureWarning: The default value of `n_init` will change from 10 to 'auto' in 1.4. Set the value of `n_init` explicitly to suppress the warning\n",
            "  warnings.warn(\n",
            "/usr/local/lib/python3.10/dist-packages/sklearn/cluster/_kmeans.py:870: FutureWarning: The default value of `n_init` will change from 10 to 'auto' in 1.4. Set the value of `n_init` explicitly to suppress the warning\n",
            "  warnings.warn(\n",
            "/usr/local/lib/python3.10/dist-packages/sklearn/cluster/_kmeans.py:870: FutureWarning: The default value of `n_init` will change from 10 to 'auto' in 1.4. Set the value of `n_init` explicitly to suppress the warning\n",
            "  warnings.warn(\n",
            "/usr/local/lib/python3.10/dist-packages/sklearn/cluster/_kmeans.py:870: FutureWarning: The default value of `n_init` will change from 10 to 'auto' in 1.4. Set the value of `n_init` explicitly to suppress the warning\n",
            "  warnings.warn(\n"
          ]
        }
      ],
      "source": [
        "#code\n",
        "k_range = range(2, 11)\n",
        "sse_values = []\n",
        "for k in k_range:\n",
        "  scaler3 = StandardScaler()  # Create a scaler object inside the loop\n",
        "  scaled_data3 = scaler3.fit_transform(data3_1)\n",
        "  # Initialize KMeans model\n",
        "  kmeans = KMeans(n_clusters=k, random_state=0)  # Set random state for reproducibility\n",
        "\n",
        "  # Fit the model to the data (use scaled data if normalization is applied)\n",
        "  kmeans.fit(scaled_data3)\n",
        "\n",
        "  # Calculate and store SSE\n",
        "  sse = kmeans.inertia_\n",
        "  sse_values.append(sse)"
      ]
    },
    {
      "cell_type": "code",
      "source": [
        "plt.plot(k_range, sse_values)\n",
        "plt.xlabel(\"Number of Clusters (k)\")\n",
        "plt.ylabel(\"Sum of Squared Errors (SSE)\")\n",
        "plt.title(\"SSE Elbow Plot\")\n",
        "plt.show()"
      ],
      "metadata": {
        "colab": {
          "base_uri": "https://localhost:8080/",
          "height": 445
        },
        "id": "Y1SQoAOhikEh",
        "outputId": "48dc11c6-c29a-4b27-9dd9-8ecc510a46f6"
      },
      "execution_count": null,
      "outputs": [
        {
          "output_type": "display_data",
          "data": {
            "text/plain": [
              "<Figure size 640x480 with 1 Axes>"
            ],
            "image/png": "[encoded data removed]"
          },
          "metadata": {}
        }
      ]
    },
    {
      "cell_type": "markdown",
      "metadata": {
        "id": "RJpsTIiyv-1h"
      },
      "source": [
        "*   3.2. From the obtained dengrograms, choose an appropriate number of clusters and apply **AgglomerativeClustering** algorithm to the given dataset"
      ]
    },
    {
      "cell_type": "code",
      "execution_count": null,
      "metadata": {
        "id": "5ZE7A0Au1Pg0",
        "colab": {
          "base_uri": "https://localhost:8080/"
        },
        "outputId": "27c252a5-6c8a-42f1-f624-7490838dfc09"
      },
      "outputs": [
        {
          "output_type": "stream",
          "name": "stderr",
          "text": [
            "/usr/local/lib/python3.10/dist-packages/sklearn/cluster/_agglomerative.py:983: FutureWarning: Attribute `affinity` was deprecated in version 1.2 and will be removed in 1.4. Use `metric` instead\n",
            "  warnings.warn(\n"
          ]
        },
        {
          "output_type": "execute_result",
          "data": {
            "text/plain": [
              "array([1, 1, 1, 1, 1, 1, 1, 1, 1, 1, 1, 1, 1, 1, 1, 1, 1, 1, 1, 1, 1, 1,\n",
              "       1, 1, 1, 1, 1, 1, 1, 1, 1, 1, 1, 1, 1, 1, 1, 1, 1, 1, 1, 1, 1, 1,\n",
              "       1, 1, 1, 1, 1, 1, 1, 1, 1, 1, 1, 1, 1, 1, 1, 1, 1, 1, 1, 1, 1, 1,\n",
              "       1, 1, 1, 1, 1, 1, 1, 1, 1, 1, 1, 1, 1, 1, 1, 1, 1, 1, 1, 1, 1, 1,\n",
              "       1, 1, 1, 1, 1, 1, 1, 1, 1, 1, 1, 1, 1, 1, 1, 1, 1, 1, 1, 1, 1, 1,\n",
              "       1, 1, 1, 1, 1, 1, 1, 1, 1, 1, 1, 1, 1, 0, 1, 0, 0, 0, 0, 0, 0, 0,\n",
              "       1, 0, 0, 0, 0, 0, 0, 0, 0, 0, 1, 0, 0, 0, 0, 0, 0, 0, 0, 0, 0, 0,\n",
              "       0, 0, 0, 0, 0, 0, 0, 0, 0, 0, 0, 0, 0, 0, 0, 0, 0, 0, 0, 0, 0, 0,\n",
              "       0, 0, 0, 0, 0, 0, 0, 0, 0, 0, 0, 0, 0, 0, 0, 0, 0, 0, 0, 0, 0, 0,\n",
              "       0, 0])"
            ]
          },
          "metadata": {},
          "execution_count": 37
        }
      ],
      "source": [
        "#code\n",
        "from sklearn.cluster import AgglomerativeClustering\n",
        "cluster = AgglomerativeClustering(n_clusters=2, affinity='euclidean', linkage='ward')\n",
        "cluster.fit_predict(data3_1)"
      ]
    },
    {
      "cell_type": "code",
      "source": [
        "from scipy.cluster.hierarchy import dendrogram, linkage\n",
        "import scipy.cluster.hierarchy as shc\n",
        "plt.figure(figsize=(10, 7))\n",
        "plt.title(\"Customer Dendograms\")\n",
        "dend = shc.dendrogram(shc.linkage(iris.data[:, 1:4], method='ward'))"
      ],
      "metadata": {
        "colab": {
          "base_uri": "https://localhost:8080/",
          "height": 621
        },
        "id": "Jl0lsqXrjRmK",
        "outputId": "c00165a0-3f1e-4808-848d-f4877293359f"
      },
      "execution_count": null,
      "outputs": [
        {
          "output_type": "display_data",
          "data": {
            "text/plain": [
              "<Figure size 1000x700 with 1 Axes>"
            ],
            "image/png": "[encoded data removed]"
          },
          "metadata": {}
        }
      ]
    },
    {
      "cell_type": "markdown",
      "metadata": {
        "id": "Ok7RGkea_b7n"
      },
      "source": [
        "#Finally,\n",
        "Save a copy in your Github. Remember renaming the notebook."
      ]
    }
  ],
  "metadata": {
    "colab": {
      "provenance": [],
      "include_colab_link": true
    },
    "kernelspec": {
      "display_name": "Python 3",
      "name": "python3"
    },
    "language_info": {
      "name": "python"
    }
  },
  "nbformat": 4,
  "nbformat_minor": 0
}