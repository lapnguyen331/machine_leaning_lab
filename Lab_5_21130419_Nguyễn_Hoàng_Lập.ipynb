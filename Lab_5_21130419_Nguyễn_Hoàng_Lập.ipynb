{
  "nbformat": 4,
  "nbformat_minor": 0,
  "metadata": {
    "colab": {
      "provenance": [],
      "gpuType": "T4",
      "include_colab_link": true
    },
    "kernelspec": {
      "name": "python3",
      "display_name": "Python 3"
    },
    "language_info": {
      "name": "python"
    },
    "accelerator": "GPU"
  },
  "cells": [
    {
      "cell_type": "markdown",
      "metadata": {
        "id": "view-in-github",
        "colab_type": "text"
      },
      "source": [
        "<a href=\"https://colab.research.google.com/github/lapnguyen331/machine_leaning_lab/blob/main/Lab_5_21130419_Nguy%E1%BB%85n_Ho%C3%A0ng_L%E1%BA%ADp.ipynb\" target=\"_parent\"><img src=\"https://colab.research.google.com/assets/colab-badge.svg\" alt=\"Open In Colab\"/></a>"
      ]
    },
    {
      "cell_type": "markdown",
      "source": [
        "# This lab is to deal with **SVM** to classification tasks and compare its performance with other competitive algorithms. In general, **SVM** is one of the most popular and widely used supervised machine learning algorithms.\n",
        "\n",
        "*   **Deadline: 23:59, 08/04/2024**\n",
        "\n"
      ],
      "metadata": {
        "id": "LMzehe0sy5wr"
      }
    },
    {
      "cell_type": "code",
      "source": [
        "from google.colab import drive\n",
        "drive.mount('/content/gdrive')\n",
        "%cd '/content/gdrive/MyDrive/machine_learning/lab5'"
      ],
      "metadata": {
        "id": "L5JsNZAUsdI4",
        "ExecuteTime": {
          "end_time": "2024-04-07T19:31:12.774332500Z",
          "start_time": "2024-04-07T19:31:12.770113400Z"
        },
        "colab": {
          "base_uri": "https://localhost:8080/"
        },
        "outputId": "3f0b26f1-b337-4996-d395-87ceed55d105"
      },
      "execution_count": 12,
      "outputs": [
        {
          "output_type": "stream",
          "name": "stdout",
          "text": [
            "Drive already mounted at /content/gdrive; to attempt to forcibly remount, call drive.mount(\"/content/gdrive\", force_remount=True).\n",
            "/content/gdrive/MyDrive/machine_learning/lab5\n"
          ]
        }
      ]
    },
    {
      "cell_type": "markdown",
      "source": [
        "# Import libraries"
      ],
      "metadata": {
        "id": "H4nJmxp9zGX4"
      }
    },
    {
      "cell_type": "code",
      "execution_count": 5,
      "metadata": {
        "id": "DoVWQ8AEyc-C",
        "ExecuteTime": {
          "end_time": "2024-04-07T19:31:37.946462100Z",
          "start_time": "2024-04-07T19:31:12.772239900Z"
        },
        "colab": {
          "base_uri": "https://localhost:8080/"
        },
        "outputId": "ac817fd7-c9aa-4bb8-93d9-ef61eb153dd7"
      },
      "outputs": [
        {
          "output_type": "stream",
          "name": "stdout",
          "text": [
            "Populating the interactive namespace from numpy and matplotlib\n"
          ]
        },
        {
          "output_type": "stream",
          "name": "stderr",
          "text": [
            "/usr/local/lib/python3.10/dist-packages/IPython/core/magics/pylab.py:159: UserWarning: pylab import has clobbered these variables: ['plt']\n",
            "`%matplotlib` prevents importing * from pylab and numpy\n",
            "  warn(\"pylab import has clobbered these variables: %s\"  % clobbered +\n"
          ]
        }
      ],
      "source": [
        "# code\n",
        "import numpy as np\n",
        "import pandas as pd\n",
        "import matplotlib.pyplot as plt\n",
        "import matplotlib\n",
        "from matplotlib.colors import Normalize\n",
        "import seaborn as sns\n",
        "import seaborn as sns\n",
        "import matplotlib.ticker as ticker\n",
        "from sklearn import metrics\n",
        "from sklearn.model_selection import train_test_split\n",
        "import matplotlib.pylab as plt\n",
        "from sklearn import svm\n",
        "from sklearn.neighbors import KNeighborsClassifier\n",
        "from sklearn.linear_model import LinearRegression, LogisticRegression\n",
        "from sklearn.tree import DecisionTreeClassifier\n",
        "from sklearn import svm\n",
        "from sklearn.metrics import classification_report, confusion_matrix\n",
        "from prettytable import PrettyTable\n",
        "from sklearn.metrics import accuracy_score\n",
        "from sklearn.metrics import precision_score\n",
        "from sklearn.metrics import recall_score\n",
        "from sklearn.metrics import f1_score\n",
        "import sklearn.datasets as datasets\n",
        "%pylab inline\n",
        "#%run Utils.ipynb\n",
        "# Warnings configuration\n",
        "# ==============================================================================\n",
        "import warnings\n",
        "# warnings.filterwarnings('ignore')\n"
      ]
    },
    {
      "cell_type": "markdown",
      "source": [
        "#Task 1.\n",
        "For **breast cancer** dataset (https://tinyurl.com/3vme8hr3) which could be loaded from datasets in sklearn as follows:\n",
        "\n",
        "```\n",
        "#Import scikit-learn dataset library\n",
        "from sklearn import datasets\n",
        "\n",
        "#Load dataset\n",
        "cancer = datasets.load_breast_cancer()\n",
        "```\n",
        "\n",
        "*   1.1.\tApply **SVM algorithm** to above dataset using linear kernel.\n",
        "*   1.2.\tCompare the obtained results with other competitive algorithms (**Logistic Regression, Decision Tree, kNN**) based on metrics: accuracy, precision, recall, f1 measures.\n",
        "\n"
      ],
      "metadata": {
        "id": "kNv07ARGzOUm"
      }
    },
    {
      "cell_type": "code",
      "source": [
        "df = datasets.load_breast_cancer()"
      ],
      "metadata": {
        "id": "sOsg77IBzEyo",
        "ExecuteTime": {
          "end_time": "2024-04-07T19:31:37.958165100Z",
          "start_time": "2024-04-07T19:31:37.947499200Z"
        }
      },
      "execution_count": 6,
      "outputs": []
    },
    {
      "cell_type": "code",
      "outputs": [],
      "source": [
        "def get_metrics(model, X_train, y_train, X_test, y_test, average='macro'):\n",
        "    model.fit(X_train, y_train)\n",
        "    y_pred = model.predict(X_test)\n",
        "    accuracy = metrics.accuracy_score(y_test, y_pred)\n",
        "    precision = metrics.precision_score(y_test, y_pred, average=average)\n",
        "    recall = metrics.recall_score(y_test, y_pred, average=average)\n",
        "    f1 = metrics.f1_score(y_test, y_pred, average=average)\n",
        "    return accuracy, precision, recall, f1"
      ],
      "metadata": {
        "ExecuteTime": {
          "end_time": "2024-04-07T19:31:37.964833300Z",
          "start_time": "2024-04-07T19:31:37.958165100Z"
        },
        "id": "jyT3_XO_NEty"
      },
      "execution_count": 7
    },
    {
      "cell_type": "code",
      "outputs": [
        {
          "output_type": "stream",
          "name": "stdout",
          "text": [
            "0.9532163742690059 0.9536765642920861 0.9532163742690059 0.9528747352733548\n",
            "0.9473684210526315 0.9479729729729729 0.9384920634920635 0.942866688940862\n",
            "0.9298245614035088 0.95 0.9047619047619048 0.9210526315789473\n",
            "0.9298245614035088 0.9271982116244412 0.9212962962962963 0.9240899674459899\n",
            "+---------------------+----------+-----------+--------+-------+\n",
            "|        Model        | Accuracy | Precision | Recall |   F1  |\n",
            "+---------------------+----------+-----------+--------+-------+\n",
            "|         SVM         |  0.953   |   0.954   | 0.953  | 0.953 |\n",
            "| Logistic Regression |  0.947   |   0.948   | 0.938  | 0.943 |\n",
            "|    Decision Tree    |   0.93   |    0.95   | 0.905  | 0.921 |\n",
            "|         KNN         |   0.93   |   0.927   | 0.921  | 0.924 |\n",
            "+---------------------+----------+-----------+--------+-------+\n"
          ]
        }
      ],
      "source": [
        "X = df.data\n",
        "y = df.target\n",
        "X_train, X_test, y_train, y_test = train_test_split(X, y, test_size=0.3, random_state=1)\n",
        "\n",
        "clf = svm.SVC(kernel='linear')\n",
        "accuracy_svm, precision_svm, recall_svm, f1_svm = get_metrics(clf, X_train, y_train, X_test, y_test,average='weighted')\n",
        "print(accuracy_svm, precision_svm, recall_svm, f1_svm)\n",
        "\n",
        "lg=LogisticRegression(max_iter=10000)\n",
        "accuracy_lg, precision_lg, recall_lg, f1_lg = get_metrics(lg, X_train, y_train, X_test, y_test,average='macro')\n",
        "print(accuracy_lg, precision_lg, recall_lg, f1_lg)\n",
        "\n",
        "DecisionTree = DecisionTreeClassifier(random_state=1)\n",
        "accuracy_dt, precision_dt, recall_dt, f1_dt = get_metrics(DecisionTree, X_train, y_train, X_test, y_test,average='macro')\n",
        "print(accuracy_dt, precision_dt, recall_dt, f1_dt)\n",
        "\n",
        "knn = KNeighborsClassifier(n_neighbors=5)\n",
        "accuracy_knn, precision_knn, recall_knn, f1_knn = get_metrics(knn, X_train, y_train, X_test, y_test,average='macro')\n",
        "print(accuracy_knn, precision_knn, recall_knn, f1_knn)\n",
        "\n",
        "petty_table = PrettyTable([\"Model\", \"Accuracy\", \"Precision\", \"Recall\", \"F1\"])\n",
        "petty_table.add_row([\"SVM\", np.round(accuracy_svm,3), np.round(precision_svm,3), np.round(recall_svm,3), np.round(f1_svm,3)])\n",
        "petty_table.add_row([\"Logistic Regression\",np.round(accuracy_lg,3), np.round(precision_lg,3), np.round(recall_lg,3), np.round(f1_lg,3)])\n",
        "petty_table.add_row([\"Decision Tree\", np.round(accuracy_dt,3), np.round(precision_dt,3), np.round(recall_dt,3), np.round(f1_dt,3)])\n",
        "petty_table.add_row([\"KNN\", np.round(accuracy_knn,3), np.round(precision_knn,3), np.round(recall_knn,3), np.round(f1_knn,3)])\n",
        "print(petty_table)"
      ],
      "metadata": {
        "ExecuteTime": {
          "end_time": "2024-04-07T19:31:39.323181700Z",
          "start_time": "2024-04-07T19:31:37.961710600Z"
        },
        "colab": {
          "base_uri": "https://localhost:8080/"
        },
        "id": "d-S3gZ6hNEty",
        "outputId": "3cbe07a1-c15a-420c-e871-dd391161f904"
      },
      "execution_count": 8
    },
    {
      "cell_type": "markdown",
      "source": [
        "#Task 2.\n",
        "\n",
        "*   2.1.\tPerform SVM algorithm to **Iris dataset** using **linear kernel**.\n",
        "*   2.2.\tCompare the obtained results in task 2.1 with **SVM** using other kernels (**Polynomial Kernel, Sigmoid Kernel, Radial Basis Function Kernel**). Some metrics could be used: **accuracy, precision, recall, f1** measures\n"
      ],
      "metadata": {
        "id": "S43IoUT-0OQq"
      }
    },
    {
      "cell_type": "code",
      "outputs": [
        {
          "output_type": "stream",
          "name": "stdout",
          "text": [
            "1.0 1.0 1.0 1.0\n",
            "0.9777777777777777 0.9761904761904763 0.9814814814814815 0.9781305114638448\n",
            "0.9555555555555556 0.9555555555555556 0.9629629629629629 0.9565826330532213\n",
            "0.28888888888888886 0.762962962962963 0.3333333333333333 0.14942528735632185\n",
            "+----------------+----------+-----------+--------+-------+\n",
            "|     Model      | Accuracy | Precision | Recall |   F1  |\n",
            "+----------------+----------+-----------+--------+-------+\n",
            "|   SVM Linear   |   1.0    |    1.0    |  1.0   |  1.0  |\n",
            "| SVM Polynomial |  0.978   |   0.976   | 0.981  | 0.978 |\n",
            "|    SVM RBF     |  0.956   |   0.956   | 0.963  | 0.957 |\n",
            "|  SVM Sigmoid   |  0.289   |   0.763   | 0.333  | 0.149 |\n",
            "+----------------+----------+-----------+--------+-------+\n"
          ]
        }
      ],
      "source": [
        "dataset= datasets.load_iris()\n",
        "X= dataset.data\n",
        "y=dataset.target\n",
        "X_train, X_test, y_train, y_test = train_test_split(X, y, test_size=0.3, random_state=1)\n",
        "\n",
        "clf_linear = svm.SVC(kernel='linear', C=1)\n",
        "accuracy_svm_linear, precision_svm_linear, recall_svm_linear, f1_svm_linear = get_metrics(clf, X_train, y_train, X_test, y_test,average='macro')\n",
        "print(accuracy_svm_linear, precision_svm_linear, recall_svm_linear, f1_svm_linear)\n",
        "clf_poly = svm.SVC(kernel='poly', C=1, degree=5, gamma=0.01, coef0=1)\n",
        "accuracy_svm_poly, precision_svm_poly, recall_svm_poly, f1_svm_poly = get_metrics(clf_poly, X_train, y_train, X_test, y_test,average='macro')\n",
        "print(accuracy_svm_poly, precision_svm_poly, recall_svm_poly, f1_svm_poly)\n",
        "clf_rbf = svm.SVC(kernel='rbf', C=1, gamma=0.01)\n",
        "accuracy_svm_rbf, precision_svm_rbf, recall_svm_rbf, f1_svm_rbf = get_metrics(clf_rbf, X_train, y_train, X_test, y_test,average='macro')\n",
        "print(accuracy_svm_rbf, precision_svm_rbf, recall_svm_rbf, f1_svm_rbf)\n",
        "clf_sigmoid = svm.SVC(kernel='sigmoid', C=1,degree=5, coef0=1)\n",
        "clf_sigmoid.fit(X_train, y_train)\n",
        "y_pred= clf_sigmoid.predict(X_test)\n",
        "accuracy_svm_sigmoid= accuracy_score(y_test, y_pred, )\n",
        "precision_svm_sigmoid= precision_score(y_test, y_pred, average='macro', zero_division=1, )\n",
        "recall_svm_sigmoid= recall_score(y_test, y_pred, average='macro', zero_division=1,)\n",
        "f1_svm_sigmoid= f1_score(y_test, y_pred, average='macro', zero_division=1,)\n",
        "print(accuracy_svm_sigmoid, precision_svm_sigmoid, recall_svm_sigmoid, f1_svm_sigmoid)\n",
        "\n",
        "\n",
        "petty_table = PrettyTable([\"Model\", \"Accuracy\", \"Precision\", \"Recall\", \"F1\"])\n",
        "petty_table.add_row([\"SVM Linear\", np.round(accuracy_svm_linear,3), np.round(precision_svm_linear,3), np.round(recall_svm_linear,3), np.round(f1_svm_linear,3)])\n",
        "petty_table.add_row([\"SVM Polynomial\",np.round(accuracy_svm_poly,3), np.round(precision_svm_poly,3), np.round(recall_svm_poly,3), np.round(f1_svm_poly,3)])\n",
        "petty_table.add_row([\"SVM RBF\", np.round(accuracy_svm_rbf,3), np.round(precision_svm_rbf,3), np.round(recall_svm_rbf,3), np.round(f1_svm_rbf,3)])\n",
        "petty_table.add_row([\"SVM Sigmoid\", np.round(accuracy_svm_sigmoid,3), np.round(precision_svm_sigmoid,3), np.round(recall_svm_sigmoid,3), np.round(f1_svm_sigmoid,3)])\n",
        "print(petty_table)\n",
        "\n",
        "\n"
      ],
      "metadata": {
        "ExecuteTime": {
          "end_time": "2024-04-07T19:31:39.349999Z",
          "start_time": "2024-04-07T19:31:39.323181700Z"
        },
        "colab": {
          "base_uri": "https://localhost:8080/"
        },
        "id": "j8z-HdakNEty",
        "outputId": "ed7e8a63-3cf9-4fce-c709-f780943add87"
      },
      "execution_count": 9
    },
    {
      "cell_type": "markdown",
      "source": [
        "#Task 3.\n",
        "Compare the performance of selected classification algorithms (**Decision Tree, kNN, Logistic Regression**) and **SVM** (using different kernels) with **FASHION** dataset based on **accuracy, precision, recall, f1** measures.\n"
      ],
      "metadata": {
        "id": "b52OPWPD2afi"
      }
    },
    {
      "cell_type": "code",
      "outputs": [
        {
          "output_type": "stream",
          "name": "stdout",
          "text": [
            "0.674 0.6763656717288031 0.6736399518586842 0.6718224993195692\n",
            "0.761 0.7769873089533864 0.76181486566761 0.7569379032729887\n",
            "0.783 0.7805722822135391 0.7814072147995884 0.7790413311115769\n",
            "0.809 0.8117729613602249 0.8080638899207333 0.8054464844513045\n",
            "0.736 0.7361996838262328 0.7357564407169342 0.7295820654389293\n",
            "0.091 0.9091000000000001 0.1 0.016681943171402383\n",
            "0.482 0.5014717566857063 0.4819001364024237 0.4706564592150957\n",
            "+---------------------+----------+-----------+--------+-------+\n",
            "|        Model        | Accuracy | Precision | Recall |   F1  |\n",
            "+---------------------+----------+-----------+--------+-------+\n",
            "|    Decision Tree    |  0.674   |   0.676   | 0.674  | 0.672 |\n",
            "|         KNN         |  0.761   |   0.777   | 0.762  | 0.757 |\n",
            "| Logistic Regression |  0.783   |   0.781   | 0.781  | 0.779 |\n",
            "|      SVM Linear     |  0.809   |   0.812   | 0.808  | 0.805 |\n",
            "|    SVM Polynomial   |  0.736   |   0.736   | 0.736  |  0.73 |\n",
            "|       SVM RBF       |  0.091   |   0.909   |  0.1   | 0.017 |\n",
            "|     SVM Sigmoid     |  0.482   |   0.501   | 0.482  | 0.471 |\n",
            "+---------------------+----------+-----------+--------+-------+\n"
          ]
        }
      ],
      "source": [
        "df_train= pd.read_csv('fashion_train.csv')\n",
        "df_text = pd.read_csv('fashion_test.csv')\n",
        "X_train=df_train.iloc[:,:-1]\n",
        "y_train=df_train.iloc[:,-1]\n",
        "X_test=df_text.iloc[:,:-1]\n",
        "y_test=df_text.iloc[:,-1]\n",
        "\n",
        "DecisionTree = DecisionTreeClassifier(random_state=2)\n",
        "accuracy_dt, precision_dt, recall_dt, f1_dt = get_metrics(DecisionTree, X_train, y_train, X_test, y_test,average='macro')\n",
        "print(accuracy_dt, precision_dt, recall_dt, f1_dt)\n",
        "\n",
        "knn = KNeighborsClassifier(n_neighbors=5)\n",
        "accuracy_knn, precision_knn, recall_knn, f1_knn = get_metrics(knn, X_train, y_train, X_test, y_test,average='macro')\n",
        "print(accuracy_knn, precision_knn, recall_knn, f1_knn)\n",
        "\n",
        "lg=LogisticRegression(max_iter=10000)\n",
        "accuracy_lg, precision_lg, recall_lg, f1_lg = get_metrics(lg, X_train, y_train, X_test, y_test,average='macro')\n",
        "print(accuracy_lg, precision_lg, recall_lg, f1_lg)\n",
        "\n",
        "\n",
        "clf_linear = svm.SVC(kernel='linear', C=1)\n",
        "accuracy_svm_linear, precision_svm_linear, recall_svm_linear, f1_svm_linear = get_metrics(clf, X_train, y_train, X_test, y_test,average='macro')\n",
        "print(accuracy_svm_linear, precision_svm_linear, recall_svm_linear, f1_svm_linear)\n",
        "clf_poly = svm.SVC(kernel='poly', C=1, degree=5, gamma=0.01, coef0=1)\n",
        "accuracy_svm_poly, precision_svm_poly, recall_svm_poly, f1_svm_poly = get_metrics(clf_poly, X_train, y_train, X_test, y_test,average='macro')\n",
        "print(accuracy_svm_poly, precision_svm_poly, recall_svm_poly, f1_svm_poly)\n",
        "clf_rbf = svm.SVC(kernel='rbf', C=1, gamma=0.001)\n",
        "clf_rbf.fit(X_train, y_train)\n",
        "y_pred= clf_rbf.predict(X_test)\n",
        "accuracy_svm_rbf= accuracy_score(y_test, y_pred)\n",
        "precision_svm_rbf= precision_score(y_test, y_pred, average='macro', zero_division=1, )\n",
        "recall_svm_rbf= recall_score(y_test, y_pred, average='macro', zero_division=1,)\n",
        "f1_svm_rbf= f1_score(y_test, y_pred, average='macro', zero_division=1,)\n",
        "print(accuracy_svm_rbf, precision_svm_rbf, recall_svm_rbf, f1_svm_rbf)\n",
        "clf_sigmoid = svm.SVC(kernel='sigmoid', C=1,degree=5, coef0=1)\n",
        "clf_sigmoid.fit(X_train, y_train)\n",
        "y_pred= clf_sigmoid.predict(X_test)\n",
        "accuracy_svm_sigmoid= accuracy_score(y_test, y_pred, )\n",
        "precision_svm_sigmoid= precision_score(y_test, y_pred, average='macro', zero_division=1, )\n",
        "recall_svm_sigmoid= recall_score(y_test, y_pred, average='macro', zero_division=1,)\n",
        "f1_svm_sigmoid= f1_score(y_test, y_pred, average='macro', zero_division=1,)\n",
        "print(accuracy_svm_sigmoid, precision_svm_sigmoid, recall_svm_sigmoid, f1_svm_sigmoid)\n",
        "\n",
        "petty_table = PrettyTable([\"Model\", \"Accuracy\", \"Precision\", \"Recall\", \"F1\"])\n",
        "petty_table.add_row([\"Decision Tree\", np.round(accuracy_dt,3), np.round(precision_dt,3), np.round(recall_dt,3), np.round(f1_dt,3)])\n",
        "petty_table.add_row([\"KNN\", np.round(accuracy_knn,3), np.round(precision_knn,3), np.round(recall_knn,3), np.round(f1_knn,3)])\n",
        "petty_table.add_row([\"Logistic Regression\",np.round(accuracy_lg,3), np.round(precision_lg,3), np.round(recall_lg,3), np.round(f1_lg,3)])\n",
        "petty_table.add_row([\"SVM Linear\", np.round(accuracy_svm_linear,3), np.round(precision_svm_linear,3), np.round(recall_svm_linear,3), np.round(f1_svm_linear,3)])\n",
        "petty_table.add_row([\"SVM Polynomial\",np.round(accuracy_svm_poly,3), np.round(precision_svm_poly,3), np.round(recall_svm_poly,3), np.round(f1_svm_poly,3)])\n",
        "petty_table.add_row([\"SVM RBF\", np.round(accuracy_svm_rbf,3), np.round(precision_svm_rbf,3), np.round(recall_svm_rbf,3), np.round(f1_svm_rbf,3)])\n",
        "petty_table.add_row([\"SVM Sigmoid\", np.round(accuracy_svm_sigmoid,3), np.round(precision_svm_sigmoid,3), np.round(recall_svm_sigmoid,3), np.round(f1_svm_sigmoid,3)])\n",
        "print(petty_table)"
      ],
      "metadata": {
        "ExecuteTime": {
          "end_time": "2024-04-07T19:31:41.806969800Z",
          "start_time": "2024-04-07T19:31:39.349999Z"
        },
        "colab": {
          "base_uri": "https://localhost:8080/"
        },
        "id": "y8_gcGZQNEtz",
        "outputId": "13572d42-1697-4281-8b49-2b5e2065c9c3"
      },
      "execution_count": 13
    },
    {
      "cell_type": "code",
      "source": [],
      "metadata": {
        "id": "LPXMBW0QUxVm",
        "colab": {
          "base_uri": "https://localhost:8080/"
        },
        "outputId": "13b8f28b-2eed-4869-c0f0-ff7a3a91257e"
      },
      "execution_count": null,
      "outputs": [
        {
          "output_type": "stream",
          "name": "stdout",
          "text": [
            "Mounted at /content/drive\n"
          ]
        }
      ]
    },
    {
      "cell_type": "markdown",
      "source": [
        "#Task 4.\n",
        "For a given mobile price classification dataset with the following information:\n",
        "\n",
        "*   **Attributes**: 'battery_power', 'blue', 'clock_speed', 'dual_sim', 'fc', 'four_g', 'int_memory', 'm_dep', 'mobile_wt', 'n_cores', 'pc', 'px_height',\n",
        "       'px_width', 'ram', 'sc_h', 'sc_w', 'talk_time', 'three_g',     'touch_screen', 'wifi'\n",
        "*   **class label**: ***price_range*** (0,1,2,3)\n",
        "\n"
      ],
      "metadata": {
        "id": "Z5pp7_h-aP2u"
      }
    },
    {
      "cell_type": "markdown",
      "source": [
        "#Task 4.1.\n",
        "Compare the performance of selected classification algorithms (**Decision Tree, kNN, Logistic Regression**) and **SVM** (using different kernels) with **mobile price classification** based on **accuracy, precision, recall, f1** measures."
      ],
      "metadata": {
        "id": "I348UU6nHjGl"
      }
    },
    {
      "cell_type": "code",
      "source": [
        "# code\n",
        "df_train = pd.read_csv('mobile_train.csv')\n",
        "X = df_train.iloc[:,:-1]\n",
        "y = df_train.iloc[:,-1]\n",
        "X_train, X_test, y_train, y_test = train_test_split(X, y, test_size=0.3, random_state=1)\n",
        "\n",
        "DecisionTree = DecisionTreeClassifier(random_state=1)\n",
        "accuracy_dt, precision_dt, recall_dt, f1_dt = get_metrics(DecisionTree, X_train, y_train, X_test, y_test,average='macro')\n",
        "\n",
        "knn = KNeighborsClassifier(n_neighbors=5)\n",
        "accuracy_knn, precision_knn, recall_knn, f1_knn = get_metrics(knn, X_train, y_train, X_test, y_test,average='macro')\n",
        "\n",
        "lg=LogisticRegression(max_iter=2000,solver='liblinear')\n",
        "accuracy_lg, precision_lg, recall_lg, f1_lg = get_metrics(lg, X_train, y_train, X_test, y_test,average='macro')\n",
        "\n",
        "\n",
        "clf_linear = svm.SVC(kernel='linear', C=1)\n",
        "accuracy_svm_linear, precision_svm_linear, recall_svm_linear, f1_svm_linear = get_metrics(clf, X_train, y_train, X_test, y_test,average='macro')\n",
        "clf_poly = svm.SVC(kernel='poly', C=1, degree=5, gamma=0.01, coef0=1)\n",
        "accuracy_svm_poly, precision_svm_poly, recall_svm_poly, f1_svm_poly = get_metrics(clf_poly, X_train, y_train, X_test, y_test,average='macro')\n",
        "clf_rbf = svm.SVC(kernel='rbf', C=1, gamma=0.001)\n",
        "clf_rbf.fit(X_train, y_train)\n",
        "y_pred= clf_rbf.predict(X_test)\n",
        "accuracy_svm_rbf= accuracy_score(y_test, y_pred)\n",
        "precision_svm_rbf= precision_score(y_test, y_pred, average='macro', zero_division=1, )\n",
        "recall_svm_rbf= recall_score(y_test, y_pred, average='macro', zero_division=1,)\n",
        "f1_svm_rbf= f1_score(y_test, y_pred, average='macro', zero_division=1,)\n",
        "clf_sigmoid = svm.SVC(kernel='sigmoid', C=1,degree=5, coef0=0.01)\n",
        "clf_sigmoid.fit(X_train, y_train)\n",
        "y_pred= clf_sigmoid.predict(X_test)\n",
        "accuracy_svm_sigmoid= accuracy_score(y_test, y_pred, )\n",
        "precision_svm_sigmoid= precision_score(y_test, y_pred, average='macro', zero_division=1, )\n",
        "recall_svm_sigmoid= recall_score(y_test, y_pred, average='macro', zero_division=1,)\n",
        "f1_svm_sigmoid= f1_score(y_test, y_pred, average='macro', zero_division=1,)\n",
        "\n",
        "petty_table = PrettyTable([\"Model\", \"Accuracy\", \"Precision\", \"Recall\", \"F1\"])\n",
        "petty_table.add_row([\"Decision Tree\", np.round(accuracy_dt,3), np.round(precision_dt,3), np.round(recall_dt,3), np.round(f1_dt,3)])\n",
        "petty_table.add_row([\"KNN\", np.round(accuracy_knn,3), np.round(precision_knn,3), np.round(recall_knn,3), np.round(f1_knn,3)])\n",
        "petty_table.add_row([\"Logistic Regression\",np.round(accuracy_lg,3), np.round(precision_lg,3), np.round(recall_lg,3), np.round(f1_lg,3)])\n",
        "petty_table.add_row([\"SVM Linear\", np.round(accuracy_svm_linear,3), np.round(precision_svm_linear,3), np.round(recall_svm_linear,3), np.round(f1_svm_linear,3)])\n",
        "petty_table.add_row([\"SVM Polynomial\",np.round(accuracy_svm_poly,3), np.round(precision_svm_poly,3), np.round(recall_svm_poly,3), np.round(f1_svm_poly,3)])\n",
        "petty_table.add_row([\"SVM RBF\", np.round(accuracy_svm_rbf,3), np.round(precision_svm_rbf,3), np.round(recall_svm_rbf,3), np.round(f1_svm_rbf,3)])\n",
        "petty_table.add_row([\"SVM Sigmoid\", np.round(accuracy_svm_sigmoid,3), np.round(precision_svm_sigmoid,3), np.round(recall_svm_sigmoid,3), np.round(f1_svm_sigmoid,3)])\n",
        "print(petty_table)"
      ],
      "metadata": {
        "id": "Rw_-8FIf2KxW",
        "ExecuteTime": {
          "end_time": "2024-04-07T19:37:42.771132400Z",
          "start_time": "2024-04-07T19:37:37.055301Z"
        },
        "colab": {
          "base_uri": "https://localhost:8080/"
        },
        "outputId": "3bff302c-741f-4a29-919e-260e1dc0cce1"
      },
      "execution_count": 14,
      "outputs": [
        {
          "output_type": "stream",
          "name": "stdout",
          "text": [
            "+---------------------+----------+-----------+--------+-------+\n",
            "|        Model        | Accuracy | Precision | Recall |   F1  |\n",
            "+---------------------+----------+-----------+--------+-------+\n",
            "|    Decision Tree    |  0.857   |   0.862   | 0.859  | 0.859 |\n",
            "|         KNN         |   0.92   |   0.923   | 0.922  | 0.922 |\n",
            "| Logistic Regression |  0.738   |   0.732   | 0.751  | 0.737 |\n",
            "|      SVM Linear     |  0.965   |   0.966   | 0.966  | 0.966 |\n",
            "|    SVM Polynomial   |  0.952   |   0.954   | 0.952  | 0.953 |\n",
            "|       SVM RBF       |  0.227   |   0.806   | 0.251  | 0.095 |\n",
            "|     SVM Sigmoid     |  0.175   |   0.461   |  0.19  | 0.197 |\n",
            "+---------------------+----------+-----------+--------+-------+\n"
          ]
        }
      ]
    },
    {
      "cell_type": "markdown",
      "source": [
        "#Task 4.2.\n",
        "Predict class label for test set using the best model found in task 4.1"
      ],
      "metadata": {
        "id": "TY35jiORHPJh"
      }
    },
    {
      "cell_type": "code",
      "source": [
        "#code\n",
        "df_text= pd.read_csv('mobile_test.csv')\n",
        "X_test= df_text.iloc[:,1:]\n",
        "\n",
        "clf_linear = svm.SVC(kernel='linear', C=1)\n",
        "clf_linear.fit(X, y)\n",
        "y_pred= clf_linear.predict(X_test)\n",
        "y_pred\n"
      ],
      "metadata": {
        "id": "z_irQuKyHtdP",
        "ExecuteTime": {
          "end_time": "2024-04-07T19:44:35.511792200Z",
          "start_time": "2024-04-07T19:44:22.831210900Z"
        },
        "colab": {
          "base_uri": "https://localhost:8080/"
        },
        "outputId": "8a0645b0-3193-4958-faf2-2b7048e16c46"
      },
      "execution_count": 16,
      "outputs": [
        {
          "output_type": "execute_result",
          "data": {
            "text/plain": [
              "array([3, 3, 2, 3, 1, 3, 3, 1, 3, 0, 3, 3, 0, 0, 2, 0, 2, 1, 3, 2, 1, 3,\n",
              "       1, 1, 3, 0, 2, 0, 3, 0, 2, 0, 3, 0, 0, 1, 3, 1, 2, 1, 1, 2, 0, 0,\n",
              "       0, 1, 0, 3, 1, 2, 1, 0, 2, 0, 3, 1, 3, 1, 1, 3, 3, 3, 0, 1, 1, 1,\n",
              "       2, 3, 1, 2, 1, 2, 2, 3, 3, 0, 2, 0, 1, 3, 0, 3, 3, 0, 3, 0, 3, 1,\n",
              "       3, 0, 1, 2, 2, 1, 2, 2, 1, 2, 1, 2, 1, 0, 0, 3, 0, 2, 0, 1, 2, 3,\n",
              "       3, 3, 1, 3, 3, 3, 3, 2, 3, 0, 0, 3, 2, 1, 2, 0, 3, 2, 3, 1, 0, 2,\n",
              "       2, 1, 3, 1, 1, 0, 3, 2, 1, 2, 1, 3, 2, 3, 3, 3, 2, 3, 2, 3, 1, 0,\n",
              "       3, 2, 3, 3, 3, 3, 2, 2, 3, 3, 3, 3, 1, 0, 3, 0, 0, 0, 2, 1, 0, 1,\n",
              "       0, 0, 1, 2, 1, 0, 0, 1, 1, 2, 2, 1, 0, 0, 0, 1, 0, 3, 1, 0, 2, 2,\n",
              "       3, 3, 1, 1, 2, 2, 3, 2, 2, 1, 1, 0, 1, 3, 0, 2, 3, 3, 0, 2, 0, 3,\n",
              "       2, 3, 3, 1, 0, 1, 0, 3, 0, 1, 0, 2, 2, 1, 3, 1, 3, 0, 3, 1, 2, 0,\n",
              "       0, 2, 1, 3, 3, 3, 1, 1, 3, 0, 0, 2, 3, 3, 1, 3, 1, 1, 3, 2, 1, 2,\n",
              "       3, 3, 3, 1, 0, 1, 2, 3, 1, 1, 3, 2, 1, 3, 0, 1, 2, 1, 0, 3, 2, 3,\n",
              "       3, 2, 1, 3, 3, 2, 3, 1, 2, 1, 2, 0, 2, 3, 1, 0, 0, 3, 0, 3, 0, 1,\n",
              "       2, 0, 2, 3, 1, 3, 2, 2, 1, 2, 0, 0, 0, 1, 3, 2, 0, 0, 0, 3, 2, 0,\n",
              "       2, 3, 1, 2, 2, 2, 3, 1, 3, 3, 2, 2, 2, 3, 3, 0, 3, 0, 3, 1, 3, 1,\n",
              "       2, 3, 0, 1, 0, 3, 1, 3, 2, 3, 0, 0, 0, 0, 2, 0, 0, 2, 2, 1, 2, 2,\n",
              "       2, 0, 1, 0, 0, 3, 2, 0, 3, 1, 2, 2, 1, 2, 3, 1, 1, 2, 2, 1, 2, 0,\n",
              "       1, 1, 0, 3, 2, 0, 0, 1, 0, 0, 1, 1, 0, 0, 0, 2, 2, 3, 2, 3, 0, 3,\n",
              "       0, 3, 0, 1, 1, 0, 2, 0, 3, 2, 3, 3, 1, 3, 1, 3, 1, 3, 2, 0, 1, 2,\n",
              "       1, 1, 0, 0, 0, 1, 2, 1, 0, 3, 2, 0, 2, 3, 0, 0, 3, 1, 2, 0, 2, 3,\n",
              "       3, 0, 3, 0, 2, 3, 2, 3, 0, 2, 0, 2, 3, 0, 1, 1, 0, 0, 1, 1, 1, 3,\n",
              "       3, 3, 2, 3, 1, 2, 2, 3, 3, 3, 2, 0, 2, 1, 2, 2, 1, 0, 2, 2, 0, 0,\n",
              "       0, 3, 1, 0, 2, 2, 2, 0, 3, 1, 2, 2, 1, 3, 0, 2, 3, 0, 1, 1, 3, 3,\n",
              "       1, 1, 1, 3, 2, 0, 3, 1, 2, 0, 3, 3, 1, 2, 2, 2, 3, 0, 1, 2, 3, 1,\n",
              "       3, 2, 3, 1, 1, 0, 0, 3, 1, 0, 3, 2, 3, 2, 1, 3, 3, 3, 2, 3, 3, 1,\n",
              "       2, 0, 2, 2, 3, 1, 0, 1, 1, 2, 2, 2, 0, 0, 2, 2, 3, 2, 0, 2, 1, 3,\n",
              "       3, 0, 1, 3, 0, 2, 1, 1, 0, 0, 2, 1, 0, 1, 1, 2, 2, 0, 2, 2, 1, 0,\n",
              "       3, 0, 0, 3, 2, 0, 0, 0, 0, 0, 3, 0, 3, 1, 3, 1, 1, 3, 3, 0, 1, 1,\n",
              "       3, 2, 2, 2, 0, 3, 0, 2, 0, 2, 0, 1, 1, 1, 1, 2, 1, 3, 1, 3, 2, 2,\n",
              "       1, 3, 2, 0, 2, 2, 0, 3, 3, 0, 2, 1, 1, 2, 0, 3, 2, 0, 3, 2, 3, 0,\n",
              "       0, 3, 0, 2, 2, 3, 2, 2, 2, 2, 1, 2, 3, 0, 1, 0, 1, 2, 1, 0, 0, 1,\n",
              "       0, 0, 3, 0, 1, 2, 0, 1, 1, 1, 3, 0, 3, 2, 3, 0, 0, 1, 2, 2, 1, 0,\n",
              "       1, 2, 0, 1, 1, 0, 0, 3, 3, 0, 3, 1, 1, 3, 0, 1, 0, 2, 2, 0, 3, 1,\n",
              "       0, 3, 1, 1, 0, 3, 3, 3, 2, 3, 0, 3, 2, 0, 0, 0, 3, 3, 2, 0, 2, 1,\n",
              "       3, 0, 0, 2, 2, 0, 3, 1, 2, 1, 1, 2, 3, 1, 1, 1, 2, 1, 0, 2, 2, 0,\n",
              "       2, 0, 0, 0, 0, 2, 3, 3, 3, 0, 1, 2, 1, 1, 0, 0, 2, 1, 0, 2, 0, 3,\n",
              "       2, 2, 1, 2, 0, 2, 1, 3, 0, 0, 3, 2, 3, 0, 0, 2, 3, 3, 1, 3, 2, 1,\n",
              "       0, 0, 3, 3, 0, 3, 0, 0, 0, 2, 2, 1, 2, 0, 3, 2, 1, 2, 3, 3, 0, 1,\n",
              "       1, 2, 1, 2, 2, 0, 1, 3, 1, 1, 3, 0, 2, 3, 2, 1, 1, 1, 3, 3, 0, 2,\n",
              "       3, 0, 2, 3, 2, 2, 2, 3, 2, 0, 1, 2, 1, 2, 1, 1, 2, 2, 2, 1, 2, 1,\n",
              "       1, 1, 3, 1, 0, 1, 2, 3, 1, 0, 0, 3, 2, 2, 3, 0, 3, 3, 2, 1, 3, 0,\n",
              "       1, 3, 1, 1, 1, 1, 3, 2, 0, 3, 0, 2, 3, 0, 3, 1, 3, 3, 1, 0, 2, 3,\n",
              "       1, 0, 2, 1, 2, 1, 2, 0, 2, 2, 0, 2, 3, 2, 3, 0, 2, 1, 1, 2, 2, 3,\n",
              "       3, 0, 2, 1, 2, 1, 3, 1, 1, 3, 0, 1, 0, 0, 3, 3, 2, 0, 0, 0, 0, 3,\n",
              "       2, 3, 3, 0, 0, 2, 1, 0, 2, 2])"
            ]
          },
          "metadata": {},
          "execution_count": 16
        }
      ]
    },
    {
      "cell_type": "markdown",
      "source": [
        "#Task 5.\n",
        "\n",
        "*   5.1.\tPerform SVM algorithm to **spambase dataset** using **linear kernel**.\n",
        "*   5.2.\tCompare the obtained results in task 5.1 with **SVM** using other kernels (**Polynomial Kernel, Sigmoid Kernel, Radial Basis Function Kernel**). Some metrics could be used: **accuracy, precision, recall, f1** measures"
      ],
      "metadata": {
        "id": "7SCMLfMfyWPU"
      }
    },
    {
      "cell_type": "code",
      "source": [
        "#code\n",
        "#5.1\n",
        "df= pd.read_csv('spambase.csv')\n",
        "\n",
        "X= df.iloc[:,:-1]\n",
        "y= df.iloc[:,-1]\n",
        "\n",
        "X_train, X_test, y_train, y_test = train_test_split(X, y, test_size=0.3, random_state=1)\n",
        "clf_linear = svm.SVC(kernel='linear', C=1)\n",
        "accuracy_svm_linear, precision_svm_linear, recall_svm_linear, f1_svm_linear = get_metrics(clf_linear, X_train, y_train, X_test, y_test,average='macro')\n",
        "#5.2\n",
        "clf_poly = svm.SVC(kernel='poly', C=1, degree=5, gamma=0.01, coef0=1)\n",
        "accuracy_svm_poly, precision_svm_poly, recall_svm_poly, f1_svm_poly = get_metrics(clf_poly, X_train, y_train, X_test, y_test,average='macro')\n",
        "clf_rbf = svm.SVC(kernel='rbf', C=1, gamma=0.001)\n",
        "clf_rbf.fit(X_train, y_train)\n",
        "y_pred= clf_rbf.predict(X_test)\n",
        "accuracy_svm_rbf= accuracy_score(y_test, y_pred)\n",
        "precision_svm_rbf= precision_score(y_test, y_pred, average='macro', zero_division=1, )\n",
        "recall_svm_rbf= recall_score(y_test, y_pred, average='macro', zero_division=1,)\n",
        "f1_svm_rbf= f1_score(y_test, y_pred, average='macro', zero_division=1,)\n",
        "clf_sigmoid = svm.SVC(kernel='sigmoid', C=1,degree=5, coef0=0.01)\n",
        "clf_sigmoid.fit(X_train, y_train)\n",
        "y_pred= clf_sigmoid.predict(X_test)\n",
        "accuracy_svm_sigmoid= accuracy_score(y_test, y_pred, )\n",
        "precision_svm_sigmoid= precision_score(y_test, y_pred, average='macro', zero_division=1, )\n",
        "recall_svm_sigmoid= recall_score(y_test, y_pred, average='macro', zero_division=1,)\n",
        "f1_svm_sigmoid= f1_score(y_test, y_pred, average='macro', zero_division=1,)"
      ],
      "metadata": {
        "id": "CU4u3CvDyfxg",
        "is_executing": true,
        "ExecuteTime": {
          "start_time": "2024-04-07T19:53:26.104508500Z"
        }
      },
      "execution_count": null,
      "outputs": []
    },
    {
      "cell_type": "code",
      "outputs": [],
      "source": [
        "petty_table = PrettyTable([\"Model\", \"Accuracy\", \"Precision\", \"Recall\", \"F1\"])\n",
        "petty_table.add_row([\"SVM Linear\", np.round(accuracy_svm_linear,3), np.round(precision_svm_linear,3), np.round(recall_svm_linear,3), np.round(f1_svm_linear,3)])\n",
        "petty_table.add_row([\"SVM Polynomial\",np.round(accuracy_svm_poly,3), np.round(precision_svm_poly,3), np.round(recall_svm_poly,3), np.round(f1_svm_poly,3)])\n",
        "petty_table.add_row([\"SVM RBF\", np.round(accuracy_svm_rbf,3), np.round(precision_svm_rbf,3), np.round(recall_svm_rbf,3), np.round(f1_svm_rbf,3)])\n",
        "petty_table.add_row([\"SVM Sigmoid\", np.round(accuracy_svm_sigmoid,3), np.round(precision_svm_sigmoid,3), np.round(recall_svm_sigmoid,3), np.round(f1_svm_sigmoid,3)])\n",
        "print(petty_table)"
      ],
      "metadata": {
        "id": "CDaAHQ-JNEt0"
      },
      "execution_count": null
    },
    {
      "cell_type": "markdown",
      "source": [
        "#Finally,\n",
        "Save a copy in your Github. Remember renaming the notebook."
      ],
      "metadata": {
        "id": "Ok7RGkea_b7n"
      }
    }
  ]
}